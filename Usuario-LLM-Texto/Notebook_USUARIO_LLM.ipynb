{
  "nbformat": 4,
  "nbformat_minor": 0,
  "metadata": {
    "colab": {
      "provenance": []
    },
    "kernelspec": {
      "name": "python3",
      "display_name": "Python 3"
    },
    "language_info": {
      "name": "python"
    }
  },
  "cells": [
    {
      "cell_type": "markdown",
      "source": [
        "\n",
        "<table>\n",
        "    <tr>\n",
        "        <td><img src=\"https://s3.amazonaws.com/media-p.slid.es/uploads/1485763/images/9060062/Header.png\" width=\"300\"/></td>\n",
        "        <td>&nbsp;</td>\n",
        "        <td>\n",
        "            <h1 style=\"font-size:50%;color:blue;text-align:center\">    <FONT COLOR=\"blue\">  \n",
        "            Detección de texto sensible </p> desde el usuario hacia el LLM        </FONT>         </h1>\n",
        "        </td>         \n",
        "        <td>\n",
        "            <tp><p style=\"font-size:99%;text-align:center\">  </p> ARQUITECTURA DE PROTECCIÓN DE PRIVACIDAD  </p> DE DATOS PARA MODELOS DE LENGUAJE DE GRAN TAMAÑO (LLM) USANDO CHATGPT </p></tp>\n",
        "            <tp><p style=\"font-size:115%;text-align:center\">Maestría MACC 2025</p></tp>\n",
        "            <tp><p style=\"font-size:115%;text-align:center\">Sofia Bonilla - Danna Ocampo - Daniel Lopez - Pedro Wightman</p></tp>\n",
        "        </td>\n",
        "    </tr>\n",
        "</table>\n",
        "\n",
        "\n"
      ],
      "metadata": {
        "id": "hdVxYomx5qJF"
      }
    },
    {
      "cell_type": "markdown",
      "source": [
        "<FONT SIZE=4 COLOR=\"green\"> Instalación de bibliotecas y herramientas necesarias"
      ],
      "metadata": {
        "id": "7y_Cpr717LyG"
      }
    },
    {
      "cell_type": "markdown",
      "source": [
        "\n",
        "\n",
        "<FONT SIZE=2 COLOR=\"black\"> -> transformers:\n",
        "Es una biblioteca de Hugging Face que proporciona modelos preentrenados para tareas de procesamiento de lenguaje natural (NLP)\n",
        "\n",
        "<FONT SIZE=2 COLOR=\"black\"> -> openai: Esta es la biblioteca oficial de OpenAI que permite interactuar con los modelos de OpenAI, como GPT\n",
        "\n",
        "<FONT SIZE=2 COLOR=\"black\"> -> datasets: Esta blioteca es muy útil para gestionar datasets en proyectos de procesamiento de lenguaje natural (NLP)"
      ],
      "metadata": {
        "id": "Ca_Sj021g2f_"
      }
    },
    {
      "cell_type": "code",
      "execution_count": null,
      "metadata": {
        "colab": {
          "base_uri": "https://localhost:8080/"
        },
        "id": "6VvL6xfogzLP",
        "outputId": "9912b02e-7526-4412-eda3-07dad1997b78"
      },
      "outputs": [
        {
          "output_type": "stream",
          "name": "stdout",
          "text": [
            "Requirement already satisfied: transformers in /usr/local/lib/python3.11/dist-packages (4.47.1)\n",
            "Requirement already satisfied: datasets in /usr/local/lib/python3.11/dist-packages (3.2.0)\n",
            "Requirement already satisfied: filelock in /usr/local/lib/python3.11/dist-packages (from transformers) (3.16.1)\n",
            "Requirement already satisfied: huggingface-hub<1.0,>=0.24.0 in /usr/local/lib/python3.11/dist-packages (from transformers) (0.27.1)\n",
            "Requirement already satisfied: numpy>=1.17 in /usr/local/lib/python3.11/dist-packages (from transformers) (1.26.4)\n",
            "Requirement already satisfied: packaging>=20.0 in /usr/local/lib/python3.11/dist-packages (from transformers) (24.2)\n",
            "Requirement already satisfied: pyyaml>=5.1 in /usr/local/lib/python3.11/dist-packages (from transformers) (6.0.2)\n",
            "Requirement already satisfied: regex!=2019.12.17 in /usr/local/lib/python3.11/dist-packages (from transformers) (2024.11.6)\n",
            "Requirement already satisfied: requests in /usr/local/lib/python3.11/dist-packages (from transformers) (2.32.3)\n",
            "Requirement already satisfied: tokenizers<0.22,>=0.21 in /usr/local/lib/python3.11/dist-packages (from transformers) (0.21.0)\n",
            "Requirement already satisfied: safetensors>=0.4.1 in /usr/local/lib/python3.11/dist-packages (from transformers) (0.5.2)\n",
            "Requirement already satisfied: tqdm>=4.27 in /usr/local/lib/python3.11/dist-packages (from transformers) (4.67.1)\n",
            "Requirement already satisfied: pyarrow>=15.0.0 in /usr/local/lib/python3.11/dist-packages (from datasets) (17.0.0)\n",
            "Requirement already satisfied: dill<0.3.9,>=0.3.0 in /usr/local/lib/python3.11/dist-packages (from datasets) (0.3.8)\n",
            "Requirement already satisfied: pandas in /usr/local/lib/python3.11/dist-packages (from datasets) (2.2.2)\n",
            "Requirement already satisfied: xxhash in /usr/local/lib/python3.11/dist-packages (from datasets) (3.5.0)\n",
            "Requirement already satisfied: multiprocess<0.70.17 in /usr/local/lib/python3.11/dist-packages (from datasets) (0.70.16)\n",
            "Requirement already satisfied: fsspec<=2024.9.0,>=2023.1.0 in /usr/local/lib/python3.11/dist-packages (from fsspec[http]<=2024.9.0,>=2023.1.0->datasets) (2024.9.0)\n",
            "Requirement already satisfied: aiohttp in /usr/local/lib/python3.11/dist-packages (from datasets) (3.11.11)\n",
            "Requirement already satisfied: aiohappyeyeballs>=2.3.0 in /usr/local/lib/python3.11/dist-packages (from aiohttp->datasets) (2.4.4)\n",
            "Requirement already satisfied: aiosignal>=1.1.2 in /usr/local/lib/python3.11/dist-packages (from aiohttp->datasets) (1.3.2)\n",
            "Requirement already satisfied: attrs>=17.3.0 in /usr/local/lib/python3.11/dist-packages (from aiohttp->datasets) (24.3.0)\n",
            "Requirement already satisfied: frozenlist>=1.1.1 in /usr/local/lib/python3.11/dist-packages (from aiohttp->datasets) (1.5.0)\n",
            "Requirement already satisfied: multidict<7.0,>=4.5 in /usr/local/lib/python3.11/dist-packages (from aiohttp->datasets) (6.1.0)\n",
            "Requirement already satisfied: propcache>=0.2.0 in /usr/local/lib/python3.11/dist-packages (from aiohttp->datasets) (0.2.1)\n",
            "Requirement already satisfied: yarl<2.0,>=1.17.0 in /usr/local/lib/python3.11/dist-packages (from aiohttp->datasets) (1.18.3)\n",
            "Requirement already satisfied: typing-extensions>=3.7.4.3 in /usr/local/lib/python3.11/dist-packages (from huggingface-hub<1.0,>=0.24.0->transformers) (4.12.2)\n",
            "Requirement already satisfied: charset-normalizer<4,>=2 in /usr/local/lib/python3.11/dist-packages (from requests->transformers) (3.4.1)\n",
            "Requirement already satisfied: idna<4,>=2.5 in /usr/local/lib/python3.11/dist-packages (from requests->transformers) (3.10)\n",
            "Requirement already satisfied: urllib3<3,>=1.21.1 in /usr/local/lib/python3.11/dist-packages (from requests->transformers) (2.3.0)\n",
            "Requirement already satisfied: certifi>=2017.4.17 in /usr/local/lib/python3.11/dist-packages (from requests->transformers) (2024.12.14)\n",
            "Requirement already satisfied: python-dateutil>=2.8.2 in /usr/local/lib/python3.11/dist-packages (from pandas->datasets) (2.8.2)\n",
            "Requirement already satisfied: pytz>=2020.1 in /usr/local/lib/python3.11/dist-packages (from pandas->datasets) (2024.2)\n",
            "Requirement already satisfied: tzdata>=2022.7 in /usr/local/lib/python3.11/dist-packages (from pandas->datasets) (2024.2)\n",
            "Requirement already satisfied: six>=1.5 in /usr/local/lib/python3.11/dist-packages (from python-dateutil>=2.8.2->pandas->datasets) (1.17.0)\n",
            "Requirement already satisfied: openai==0.28 in /usr/local/lib/python3.11/dist-packages (0.28.0)\n",
            "Requirement already satisfied: requests>=2.20 in /usr/local/lib/python3.11/dist-packages (from openai==0.28) (2.32.3)\n",
            "Requirement already satisfied: tqdm in /usr/local/lib/python3.11/dist-packages (from openai==0.28) (4.67.1)\n",
            "Requirement already satisfied: aiohttp in /usr/local/lib/python3.11/dist-packages (from openai==0.28) (3.11.11)\n",
            "Requirement already satisfied: charset-normalizer<4,>=2 in /usr/local/lib/python3.11/dist-packages (from requests>=2.20->openai==0.28) (3.4.1)\n",
            "Requirement already satisfied: idna<4,>=2.5 in /usr/local/lib/python3.11/dist-packages (from requests>=2.20->openai==0.28) (3.10)\n",
            "Requirement already satisfied: urllib3<3,>=1.21.1 in /usr/local/lib/python3.11/dist-packages (from requests>=2.20->openai==0.28) (2.3.0)\n",
            "Requirement already satisfied: certifi>=2017.4.17 in /usr/local/lib/python3.11/dist-packages (from requests>=2.20->openai==0.28) (2024.12.14)\n",
            "Requirement already satisfied: aiohappyeyeballs>=2.3.0 in /usr/local/lib/python3.11/dist-packages (from aiohttp->openai==0.28) (2.4.4)\n",
            "Requirement already satisfied: aiosignal>=1.1.2 in /usr/local/lib/python3.11/dist-packages (from aiohttp->openai==0.28) (1.3.2)\n",
            "Requirement already satisfied: attrs>=17.3.0 in /usr/local/lib/python3.11/dist-packages (from aiohttp->openai==0.28) (24.3.0)\n",
            "Requirement already satisfied: frozenlist>=1.1.1 in /usr/local/lib/python3.11/dist-packages (from aiohttp->openai==0.28) (1.5.0)\n",
            "Requirement already satisfied: multidict<7.0,>=4.5 in /usr/local/lib/python3.11/dist-packages (from aiohttp->openai==0.28) (6.1.0)\n",
            "Requirement already satisfied: propcache>=0.2.0 in /usr/local/lib/python3.11/dist-packages (from aiohttp->openai==0.28) (0.2.1)\n",
            "Requirement already satisfied: yarl<2.0,>=1.17.0 in /usr/local/lib/python3.11/dist-packages (from aiohttp->openai==0.28) (1.18.3)\n"
          ]
        }
      ],
      "source": [
        "!pip install transformers datasets\n",
        "!pip install openai==0.28\n",
        "!pip install datasets"
      ]
    },
    {
      "cell_type": "markdown",
      "source": [
        "<FONT SIZE=4 COLOR=\"green\"> Importación de bibliotecas"
      ],
      "metadata": {
        "id": "2Sd3eAPeg7SU"
      }
    },
    {
      "cell_type": "code",
      "source": [
        "import pandas as pd  # Manejo de datos en estructuras tipo DataFrame\n",
        "import torch  # Operaciones con tensores y computación en GPU\n",
        "from sklearn.model_selection import train_test_split  # División de datos en entrenamiento/prueba\n",
        "from transformers import DistilBertTokenizer, DistilBertForSequenceClassification  # Tokenizador y modelo DistilBERT\n",
        "from transformers import Trainer, TrainingArguments  # Configuración y entrenamiento de modelos\n",
        "import re  # Procesamiento de texto con expresiones regulares\n",
        "from sklearn.metrics import classification_report, confusion_matrix, roc_curve, auc  # Evaluación de métricas\n",
        "from datasets import Dataset  # Manipulación de conjuntos de datos\n",
        "import matplotlib.pyplot as plt  # Visualización de gráficos\n",
        "import seaborn as sns  # Gráficos estadísticos y visualización\n",
        "from sklearn.preprocessing import label_binarize  # Preprocesamiento de etiquetas para clasificación\n",
        "import openai  # Interacción con la API de OpenAI\n"
      ],
      "metadata": {
        "id": "RWE_EbKi9O8e"
      },
      "execution_count": null,
      "outputs": []
    },
    {
      "cell_type": "markdown",
      "source": [
        "<FONT SIZE=4 COLOR=\"green\"> API Key de OPENAI"
      ],
      "metadata": {
        "id": "__Are-ki8wHK"
      }
    },
    {
      "cell_type": "code",
      "source": [
        "openai.api_key = 'sk-proj-QmMFnqijmb98iKSWmcF5T3BlbkFJySuWHSxZ0wNhJcfKP0xn'"
      ],
      "metadata": {
        "id": "1XoRyp_g8dGy"
      },
      "execution_count": null,
      "outputs": []
    },
    {
      "cell_type": "markdown",
      "source": [
        "<FONT SIZE=4 COLOR=\"green\"> Carga de datos en formato csv"
      ],
      "metadata": {
        "id": "UYoRM8FChHCJ"
      }
    },
    {
      "cell_type": "code",
      "source": [
        "df = pd.read_csv('datos.csv')\n",
        "print(df.head(10)) #Muestra las 10 primeras filas del dataset"
      ],
      "metadata": {
        "colab": {
          "base_uri": "https://localhost:8080/"
        },
        "id": "pWfvXJV1hGlm",
        "outputId": "ddbbdaa4-3571-4bbe-95c3-6ec94de804e2"
      },
      "execution_count": null,
      "outputs": [
        {
          "output_type": "stream",
          "name": "stdout",
          "text": [
            "                                                text  label\n",
            "0  Mi nombre es Juan Pérez y mi correo es juan.pe...      1\n",
            "1  El número de mi tarjeta de crédito es 1234-567...      1\n",
            "2               La reunión es el viernes a las 3 PM.      0\n",
            "3                                Mi ID es 123456789.      1\n",
            "4              La fecha de nacimiento es 01/01/1990.      1\n",
            "5                No tengo información sensible aquí.      0\n",
            "6                           Mi teléfono es 555-1234.      1\n",
            "7               El número de mi cuenta es 987654321.      1\n",
            "8        Puedes contactar a María en maria@mail.com.      1\n",
            "9      Mi tarjeta de crédito es 4321-8765-1234-5678.      1\n"
          ]
        }
      ]
    },
    {
      "cell_type": "markdown",
      "source": [
        "<FONT SIZE=4 COLOR=\"green\"> División de datos"
      ],
      "metadata": {
        "id": "wOARAbi5hMzN"
      }
    },
    {
      "cell_type": "markdown",
      "source": [
        "Se dividen los datos en conjuntos de entrenamiento y prueba, usando un 80% para entrenamiento y 20% para prueba."
      ],
      "metadata": {
        "id": "NFWbv7AfhPZb"
      }
    },
    {
      "cell_type": "code",
      "source": [
        "train_texts, test_texts, train_labels, test_labels = train_test_split(df['text'].tolist(), df['label'], test_size=0.2)"
      ],
      "metadata": {
        "id": "aMKk4cHThQbP"
      },
      "execution_count": null,
      "outputs": []
    },
    {
      "cell_type": "markdown",
      "source": [
        "<FONT SIZE=4 COLOR=\"green\"> Tokenización"
      ],
      "metadata": {
        "id": "lmeT8biAhT2Y"
      }
    },
    {
      "cell_type": "markdown",
      "source": [
        "*  DistilBertTokenizer: Es una clase de Hugging Face que convierte texto en una secuencia de tokens (números) que el modelo DistilBERT puede procesar.\n",
        "*  from_pretrained('distilbert-base-uncased'): Carga el tokenizador asociado al modelo preentrenado distilbert-base-uncased.\n",
        "*  distilbert-base-uncased: Significa que el texto de entrada se convertirá todo a minúsculas y no distinguirá entre mayúsculas y minúsculas.\n",
        "\n",
        "\n",
        "\n",
        "\n"
      ],
      "metadata": {
        "id": "VwGY0Ywd-hPp"
      }
    },
    {
      "cell_type": "markdown",
      "source": [
        "Se inicializa el tokenizador para el modelo DistilBERT y se tokenizan los textos de entrenamiento y prueba."
      ],
      "metadata": {
        "id": "hCBpL0L_hWQR"
      }
    },
    {
      "cell_type": "code",
      "source": [
        "tokenizer = DistilBertTokenizer.from_pretrained('distilbert-base-uncased')\n",
        "train_encodings = tokenizer(train_texts, truncation=True, padding=True, max_length=512)\n",
        "test_encodings = tokenizer(test_texts, truncation=True, padding=True, max_length=512)\n"
      ],
      "metadata": {
        "colab": {
          "base_uri": "https://localhost:8080/"
        },
        "id": "WfVCf1f3hVEK",
        "outputId": "8f945e91-b50c-47f2-d639-269e59d7498e"
      },
      "execution_count": null,
      "outputs": [
        {
          "output_type": "stream",
          "name": "stderr",
          "text": [
            "/usr/local/lib/python3.11/dist-packages/huggingface_hub/utils/_auth.py:94: UserWarning: \n",
            "The secret `HF_TOKEN` does not exist in your Colab secrets.\n",
            "To authenticate with the Hugging Face Hub, create a token in your settings tab (https://huggingface.co/settings/tokens), set it as secret in your Google Colab and restart your session.\n",
            "You will be able to reuse this secret in all of your notebooks.\n",
            "Please note that authentication is recommended but still optional to access public models or datasets.\n",
            "  warnings.warn(\n"
          ]
        }
      ]
    },
    {
      "cell_type": "markdown",
      "source": [
        "La clase SensitiveDataDataset define un conjunto de datos personalizado para PyTorch, que convierte las codificaciones (encodings) y etiquetas (labels) en tensores, facilitando su uso en DataLoaders para entrenamiento y evaluación en lotes. Los métodos __getitem__ y __len__ permiten acceder a elementos individuales y conocer la longitud del conjunto de datos."
      ],
      "metadata": {
        "id": "wOHwvzGehiwC"
      }
    },
    {
      "cell_type": "code",
      "source": [
        "class SensitiveDataDataset(torch.utils.data.Dataset):\n",
        "    def __init__(self, encodings, labels):\n",
        "        self.encodings = encodings\n",
        "        self.labels = labels\n",
        "\n",
        "    def __getitem__(self, idx):\n",
        "        item = {key: torch.tensor(val[idx]) for key, val in self.encodings.items()}\n",
        "        item['labels'] = torch.tensor(self.labels[idx])\n",
        "        return item\n",
        "\n",
        "    def __len__(self):\n",
        "        return len(self.labels)\n",
        "\n",
        "train_dataset = SensitiveDataDataset(train_encodings, train_labels.tolist())\n",
        "test_dataset = SensitiveDataDataset(test_encodings, test_labels.tolist())"
      ],
      "metadata": {
        "id": "VdWGkU9PhiJ-"
      },
      "execution_count": null,
      "outputs": []
    },
    {
      "cell_type": "markdown",
      "source": [
        "<FONT SIZE=4 COLOR=\"green\"> Configuración del modelo"
      ],
      "metadata": {
        "id": "BmCJuUERhndc"
      }
    },
    {
      "cell_type": "code",
      "source": [
        "model = DistilBertForSequenceClassification.from_pretrained('distilbert-base-uncased', num_labels=2)\n"
      ],
      "metadata": {
        "colab": {
          "base_uri": "https://localhost:8080/"
        },
        "id": "m2J4qSNkhotG",
        "outputId": "2aba9611-fe65-4d47-c462-c71554a62634"
      },
      "execution_count": null,
      "outputs": [
        {
          "output_type": "stream",
          "name": "stderr",
          "text": [
            "Some weights of DistilBertForSequenceClassification were not initialized from the model checkpoint at distilbert-base-uncased and are newly initialized: ['classifier.bias', 'classifier.weight', 'pre_classifier.bias', 'pre_classifier.weight']\n",
            "You should probably TRAIN this model on a down-stream task to be able to use it for predictions and inference.\n"
          ]
        }
      ]
    },
    {
      "cell_type": "markdown",
      "source": [
        "<FONT SIZE=4 COLOR=\"green\">Entrenamiento del modelo"
      ],
      "metadata": {
        "id": "ctcMmKMDhpzi"
      }
    },
    {
      "cell_type": "code",
      "source": [
        "training_args = TrainingArguments(\n",
        "    output_dir='./results',  # Directorio donde se guardarán los resultados.\n",
        "    num_train_epochs=4,  # Número de épocas de entrenamiento (pasadas completas por los datos).\n",
        "    per_device_train_batch_size=4,  # Tamaño del lote por dispositivo durante el entrenamiento.\n",
        "    per_device_eval_batch_size=4,  # Tamaño del lote por dispositivo durante la evaluación.\n",
        "    warmup_steps=500,  # Cantidad de pasos de calentamiento para ajustar la tasa de aprendizaje.\n",
        "    weight_decay=0.01,  # Factor de decaimiento del peso para regularización (evita el overfitting).\n",
        "    logging_dir='./logs',  # Directorio donde se guardarán los registros de entrenamiento.\n",
        "    logging_steps=10,  # Frecuencia (en pasos) con la que se registrarán los logs de entrenamiento.\n",
        ")\n",
        "\n",
        "trainer = Trainer(\n",
        "    model=model,  # Modelo que será entrenado (DistilBERT).\n",
        "    args=training_args,  # Argumentos definidos previamente para el entrenamiento.\n",
        "    train_dataset=train_dataset,  # Conjunto de datos para entrenamiento.\n",
        "    eval_dataset=test_dataset,  # Conjunto de datos para evaluación.\n",
        ")\n",
        "\n",
        "trainer.train()"
      ],
      "metadata": {
        "colab": {
          "base_uri": "https://localhost:8080/",
          "height": 1000
        },
        "id": "zZuXwbgnhrMd",
        "outputId": "c070a1f0-ce47-42bd-8729-b7b91a4f1633"
      },
      "execution_count": null,
      "outputs": [
        {
          "output_type": "stream",
          "name": "stderr",
          "text": [
            "\u001b[34m\u001b[1mwandb\u001b[0m: \u001b[33mWARNING\u001b[0m The `run_name` is currently set to the same value as `TrainingArguments.output_dir`. If this was not intended, please specify a different run name by setting the `TrainingArguments.run_name` parameter.\n",
            "\u001b[34m\u001b[1mwandb\u001b[0m: Currently logged in as: \u001b[33msofia-06-bonilla\u001b[0m (\u001b[33msofia-06-bonilla-universidad-del-rosario\u001b[0m). Use \u001b[1m`wandb login --relogin`\u001b[0m to force relogin\n",
            "\u001b[34m\u001b[1mwandb\u001b[0m: Using wandb-core as the SDK backend.  Please refer to https://wandb.me/wandb-core for more information.\n"
          ]
        },
        {
          "output_type": "display_data",
          "data": {
            "text/plain": [
              "<IPython.core.display.HTML object>"
            ],
            "text/html": [
              "Tracking run with wandb version 0.19.2"
            ]
          },
          "metadata": {}
        },
        {
          "output_type": "display_data",
          "data": {
            "text/plain": [
              "<IPython.core.display.HTML object>"
            ],
            "text/html": [
              "Run data is saved locally in <code>/content/wandb/run-20250117_170954-x466ca64</code>"
            ]
          },
          "metadata": {}
        },
        {
          "output_type": "display_data",
          "data": {
            "text/plain": [
              "<IPython.core.display.HTML object>"
            ],
            "text/html": [
              "Syncing run <strong><a href='https://wandb.ai/sofia-06-bonilla-universidad-del-rosario/huggingface/runs/x466ca64' target=\"_blank\">./results</a></strong> to <a href='https://wandb.ai/sofia-06-bonilla-universidad-del-rosario/huggingface' target=\"_blank\">Weights & Biases</a> (<a href='https://wandb.me/developer-guide' target=\"_blank\">docs</a>)<br>"
            ]
          },
          "metadata": {}
        },
        {
          "output_type": "display_data",
          "data": {
            "text/plain": [
              "<IPython.core.display.HTML object>"
            ],
            "text/html": [
              " View project at <a href='https://wandb.ai/sofia-06-bonilla-universidad-del-rosario/huggingface' target=\"_blank\">https://wandb.ai/sofia-06-bonilla-universidad-del-rosario/huggingface</a>"
            ]
          },
          "metadata": {}
        },
        {
          "output_type": "display_data",
          "data": {
            "text/plain": [
              "<IPython.core.display.HTML object>"
            ],
            "text/html": [
              " View run at <a href='https://wandb.ai/sofia-06-bonilla-universidad-del-rosario/huggingface/runs/x466ca64' target=\"_blank\">https://wandb.ai/sofia-06-bonilla-universidad-del-rosario/huggingface/runs/x466ca64</a>"
            ]
          },
          "metadata": {}
        },
        {
          "output_type": "display_data",
          "data": {
            "text/plain": [
              "<IPython.core.display.HTML object>"
            ],
            "text/html": [
              "\n",
              "    <div>\n",
              "      \n",
              "      <progress value='672' max='672' style='width:300px; height:20px; vertical-align: middle;'></progress>\n",
              "      [672/672 19:55, Epoch 4/4]\n",
              "    </div>\n",
              "    <table border=\"1\" class=\"dataframe\">\n",
              "  <thead>\n",
              " <tr style=\"text-align: left;\">\n",
              "      <th>Step</th>\n",
              "      <th>Training Loss</th>\n",
              "    </tr>\n",
              "  </thead>\n",
              "  <tbody>\n",
              "    <tr>\n",
              "      <td>10</td>\n",
              "      <td>0.702500</td>\n",
              "    </tr>\n",
              "    <tr>\n",
              "      <td>20</td>\n",
              "      <td>0.679900</td>\n",
              "    </tr>\n",
              "    <tr>\n",
              "      <td>30</td>\n",
              "      <td>0.654000</td>\n",
              "    </tr>\n",
              "    <tr>\n",
              "      <td>40</td>\n",
              "      <td>0.628800</td>\n",
              "    </tr>\n",
              "    <tr>\n",
              "      <td>50</td>\n",
              "      <td>0.584200</td>\n",
              "    </tr>\n",
              "    <tr>\n",
              "      <td>60</td>\n",
              "      <td>0.559400</td>\n",
              "    </tr>\n",
              "    <tr>\n",
              "      <td>70</td>\n",
              "      <td>0.462200</td>\n",
              "    </tr>\n",
              "    <tr>\n",
              "      <td>80</td>\n",
              "      <td>0.430200</td>\n",
              "    </tr>\n",
              "    <tr>\n",
              "      <td>90</td>\n",
              "      <td>0.354300</td>\n",
              "    </tr>\n",
              "    <tr>\n",
              "      <td>100</td>\n",
              "      <td>0.323500</td>\n",
              "    </tr>\n",
              "    <tr>\n",
              "      <td>110</td>\n",
              "      <td>0.285800</td>\n",
              "    </tr>\n",
              "    <tr>\n",
              "      <td>120</td>\n",
              "      <td>0.264700</td>\n",
              "    </tr>\n",
              "    <tr>\n",
              "      <td>130</td>\n",
              "      <td>0.292000</td>\n",
              "    </tr>\n",
              "    <tr>\n",
              "      <td>140</td>\n",
              "      <td>0.160400</td>\n",
              "    </tr>\n",
              "    <tr>\n",
              "      <td>150</td>\n",
              "      <td>0.261400</td>\n",
              "    </tr>\n",
              "    <tr>\n",
              "      <td>160</td>\n",
              "      <td>0.186500</td>\n",
              "    </tr>\n",
              "    <tr>\n",
              "      <td>170</td>\n",
              "      <td>0.285100</td>\n",
              "    </tr>\n",
              "    <tr>\n",
              "      <td>180</td>\n",
              "      <td>0.129100</td>\n",
              "    </tr>\n",
              "    <tr>\n",
              "      <td>190</td>\n",
              "      <td>0.012500</td>\n",
              "    </tr>\n",
              "    <tr>\n",
              "      <td>200</td>\n",
              "      <td>0.313400</td>\n",
              "    </tr>\n",
              "    <tr>\n",
              "      <td>210</td>\n",
              "      <td>0.195500</td>\n",
              "    </tr>\n",
              "    <tr>\n",
              "      <td>220</td>\n",
              "      <td>0.257400</td>\n",
              "    </tr>\n",
              "    <tr>\n",
              "      <td>230</td>\n",
              "      <td>0.395600</td>\n",
              "    </tr>\n",
              "    <tr>\n",
              "      <td>240</td>\n",
              "      <td>0.103300</td>\n",
              "    </tr>\n",
              "    <tr>\n",
              "      <td>250</td>\n",
              "      <td>0.314500</td>\n",
              "    </tr>\n",
              "    <tr>\n",
              "      <td>260</td>\n",
              "      <td>0.016800</td>\n",
              "    </tr>\n",
              "    <tr>\n",
              "      <td>270</td>\n",
              "      <td>0.230300</td>\n",
              "    </tr>\n",
              "    <tr>\n",
              "      <td>280</td>\n",
              "      <td>0.233200</td>\n",
              "    </tr>\n",
              "    <tr>\n",
              "      <td>290</td>\n",
              "      <td>0.232400</td>\n",
              "    </tr>\n",
              "    <tr>\n",
              "      <td>300</td>\n",
              "      <td>0.072200</td>\n",
              "    </tr>\n",
              "    <tr>\n",
              "      <td>310</td>\n",
              "      <td>0.076200</td>\n",
              "    </tr>\n",
              "    <tr>\n",
              "      <td>320</td>\n",
              "      <td>0.201300</td>\n",
              "    </tr>\n",
              "    <tr>\n",
              "      <td>330</td>\n",
              "      <td>0.003400</td>\n",
              "    </tr>\n",
              "    <tr>\n",
              "      <td>340</td>\n",
              "      <td>0.002200</td>\n",
              "    </tr>\n",
              "    <tr>\n",
              "      <td>350</td>\n",
              "      <td>0.276700</td>\n",
              "    </tr>\n",
              "    <tr>\n",
              "      <td>360</td>\n",
              "      <td>0.090500</td>\n",
              "    </tr>\n",
              "    <tr>\n",
              "      <td>370</td>\n",
              "      <td>0.149200</td>\n",
              "    </tr>\n",
              "    <tr>\n",
              "      <td>380</td>\n",
              "      <td>0.002800</td>\n",
              "    </tr>\n",
              "    <tr>\n",
              "      <td>390</td>\n",
              "      <td>0.227900</td>\n",
              "    </tr>\n",
              "    <tr>\n",
              "      <td>400</td>\n",
              "      <td>0.104500</td>\n",
              "    </tr>\n",
              "    <tr>\n",
              "      <td>410</td>\n",
              "      <td>0.001500</td>\n",
              "    </tr>\n",
              "    <tr>\n",
              "      <td>420</td>\n",
              "      <td>0.083700</td>\n",
              "    </tr>\n",
              "    <tr>\n",
              "      <td>430</td>\n",
              "      <td>0.220500</td>\n",
              "    </tr>\n",
              "    <tr>\n",
              "      <td>440</td>\n",
              "      <td>0.110200</td>\n",
              "    </tr>\n",
              "    <tr>\n",
              "      <td>450</td>\n",
              "      <td>0.185800</td>\n",
              "    </tr>\n",
              "    <tr>\n",
              "      <td>460</td>\n",
              "      <td>0.286100</td>\n",
              "    </tr>\n",
              "    <tr>\n",
              "      <td>470</td>\n",
              "      <td>0.147800</td>\n",
              "    </tr>\n",
              "    <tr>\n",
              "      <td>480</td>\n",
              "      <td>0.332300</td>\n",
              "    </tr>\n",
              "    <tr>\n",
              "      <td>490</td>\n",
              "      <td>0.364700</td>\n",
              "    </tr>\n",
              "    <tr>\n",
              "      <td>500</td>\n",
              "      <td>0.557100</td>\n",
              "    </tr>\n",
              "    <tr>\n",
              "      <td>510</td>\n",
              "      <td>0.052400</td>\n",
              "    </tr>\n",
              "    <tr>\n",
              "      <td>520</td>\n",
              "      <td>0.050000</td>\n",
              "    </tr>\n",
              "    <tr>\n",
              "      <td>530</td>\n",
              "      <td>0.158800</td>\n",
              "    </tr>\n",
              "    <tr>\n",
              "      <td>540</td>\n",
              "      <td>0.059500</td>\n",
              "    </tr>\n",
              "    <tr>\n",
              "      <td>550</td>\n",
              "      <td>0.168700</td>\n",
              "    </tr>\n",
              "    <tr>\n",
              "      <td>560</td>\n",
              "      <td>0.268100</td>\n",
              "    </tr>\n",
              "    <tr>\n",
              "      <td>570</td>\n",
              "      <td>0.107100</td>\n",
              "    </tr>\n",
              "    <tr>\n",
              "      <td>580</td>\n",
              "      <td>0.402400</td>\n",
              "    </tr>\n",
              "    <tr>\n",
              "      <td>590</td>\n",
              "      <td>0.158100</td>\n",
              "    </tr>\n",
              "    <tr>\n",
              "      <td>600</td>\n",
              "      <td>0.050600</td>\n",
              "    </tr>\n",
              "    <tr>\n",
              "      <td>610</td>\n",
              "      <td>0.056700</td>\n",
              "    </tr>\n",
              "    <tr>\n",
              "      <td>620</td>\n",
              "      <td>0.057800</td>\n",
              "    </tr>\n",
              "    <tr>\n",
              "      <td>630</td>\n",
              "      <td>0.080800</td>\n",
              "    </tr>\n",
              "    <tr>\n",
              "      <td>640</td>\n",
              "      <td>0.081200</td>\n",
              "    </tr>\n",
              "    <tr>\n",
              "      <td>650</td>\n",
              "      <td>0.013200</td>\n",
              "    </tr>\n",
              "    <tr>\n",
              "      <td>660</td>\n",
              "      <td>0.029700</td>\n",
              "    </tr>\n",
              "    <tr>\n",
              "      <td>670</td>\n",
              "      <td>0.099800</td>\n",
              "    </tr>\n",
              "  </tbody>\n",
              "</table><p>"
            ]
          },
          "metadata": {}
        },
        {
          "output_type": "execute_result",
          "data": {
            "text/plain": [
              "TrainOutput(global_step=672, training_loss=0.22234894947559086, metrics={'train_runtime': 1207.7387, 'train_samples_per_second': 2.219, 'train_steps_per_second': 0.556, 'total_flos': 20108137155360.0, 'train_loss': 0.22234894947559086, 'epoch': 4.0})"
            ]
          },
          "metadata": {},
          "execution_count": 9
        }
      ]
    },
    {
      "cell_type": "markdown",
      "source": [
        "<FONT SIZE=4 COLOR=\"green\">Evaluación del modelo -> Métricas"
      ],
      "metadata": {
        "id": "cGsqUyKdh8X6"
      }
    },
    {
      "cell_type": "code",
      "source": [
        "# Guardar el modelo después del entrenamiento\n",
        "trainer.save_model(\"./results\")\n",
        "\n",
        "# Cargar el dataset de validación\n",
        "df_validation = pd.read_csv('validacion.csv')\n",
        "\n",
        "# Verificar que 'frase' contiene texto y 'etiqueta' tiene valores numéricos\n",
        "df_validation['frase'] = df_validation['frase'].astype(str)  # Asegurarse de que las frases sean cadenas\n",
        "df_validation['etiqueta'] = df_validation['etiqueta'].astype(int)  # Asegurarse de que las etiquetas sean enteros\n",
        "\n",
        "# Cargar el tokenizador y el modelo previamente entrenado\n",
        "tokenizer = DistilBertTokenizer.from_pretrained('distilbert-base-uncased')\n",
        "model = DistilBertForSequenceClassification.from_pretrained('./results')  # Ruta donde guardaste el modelo entrenado\n",
        "\n",
        "# Preprocesar el conjunto de validación\n",
        "validation_encodings = tokenizer(df_validation['frase'].tolist(), truncation=True, padding=True, max_length=128)\n",
        "\n",
        "# Convertir las etiquetas a tensores de torch\n",
        "validation_labels = torch.tensor(df_validation['etiqueta'].values)\n",
        "\n",
        "# Crear el dataset de validación para Hugging Face\n",
        "validation_dataset = Dataset.from_dict({\n",
        "    'input_ids': validation_encodings['input_ids'],\n",
        "    'attention_mask': validation_encodings['attention_mask'],\n",
        "    'labels': validation_labels\n",
        "})\n",
        "\n",
        "# Configurar el Trainer solo para evaluación\n",
        "trainer = Trainer(model=model)\n",
        "\n",
        "# Evaluar en el conjunto de validación\n",
        "predictions = trainer.predict(validation_dataset)\n",
        "predicted_labels = predictions.predictions.argmax(axis=1)\n",
        "\n",
        "# Generar y mostrar el informe de clasificación\n",
        "print(\"Informe de clasificación en el conjunto de validación:\")\n",
        "print(classification_report(validation_labels, predicted_labels))\n"
      ],
      "metadata": {
        "colab": {
          "base_uri": "https://localhost:8080/",
          "height": 190
        },
        "id": "qLx1qPyod37V",
        "outputId": "bca11333-cc15-4a84-e30b-3778cfdcbcaa"
      },
      "execution_count": null,
      "outputs": [
        {
          "output_type": "display_data",
          "data": {
            "text/plain": [
              "<IPython.core.display.HTML object>"
            ],
            "text/html": []
          },
          "metadata": {}
        },
        {
          "output_type": "stream",
          "name": "stdout",
          "text": [
            "Informe de clasificación en el conjunto de validación:\n",
            "              precision    recall  f1-score   support\n",
            "\n",
            "           0       0.80      0.82      0.81       250\n",
            "           1       0.82      0.80      0.81       250\n",
            "\n",
            "    accuracy                           0.81       500\n",
            "   macro avg       0.81      0.81      0.81       500\n",
            "weighted avg       0.81      0.81      0.81       500\n",
            "\n"
          ]
        }
      ]
    },
    {
      "cell_type": "markdown",
      "source": [
        "<FONT SIZE=4 COLOR=\"green\">Evaluación del modelo -> Gráficas"
      ],
      "metadata": {
        "id": "9ZsEqei7AYGp"
      }
    },
    {
      "cell_type": "code",
      "source": [
        "# Matriz de Confusión\n",
        "conf_matrix = confusion_matrix(validation_labels, predicted_labels)\n",
        "\n",
        "# Visualizar la matriz de confusión\n",
        "plt.figure(figsize=(8, 6))\n",
        "sns.heatmap(conf_matrix, annot=True, fmt='d', cmap='Blues', xticklabels=['Clase 0', 'Clase 1'], yticklabels=['Clase 0', 'Clase 1'])\n",
        "plt.title('Matriz de Confusión')\n",
        "plt.xlabel('Predicción')\n",
        "plt.ylabel('Real')\n",
        "plt.show()\n",
        "\n",
        "# Curva ROC y AUC (Área Bajo la Curva)\n",
        "# Binarizamos las etiquetas\n",
        "validation_labels_bin = label_binarize(validation_labels, classes=[0, 1])\n",
        "\n",
        "# Calcular las probabilidades de predicción de cada clase\n",
        "predicted_probs = predictions.predictions[:, 1]  # Probabilidades de la clase positiva (1)\n",
        "\n",
        "# Calcular la curva ROC\n",
        "fpr, tpr, thresholds = roc_curve(validation_labels_bin, predicted_probs)\n",
        "roc_auc = auc(fpr, tpr)\n",
        "\n",
        "# Graficar la curva ROC\n",
        "plt.figure(figsize=(8, 6))\n",
        "plt.plot(fpr, tpr, color='blue', lw=2, label=f'Curva ROC (AUC = {roc_auc:.2f})')\n",
        "plt.plot([0, 1], [0, 1], color='gray', linestyle='--')\n",
        "plt.title('Curva ROC')\n",
        "plt.xlabel('Tasa de Falsos Positivos')\n",
        "plt.ylabel('Tasa de Verdaderos Positivos')\n",
        "plt.legend(loc='lower right')\n",
        "plt.show()"
      ],
      "metadata": {
        "colab": {
          "base_uri": "https://localhost:8080/",
          "height": 1000
        },
        "id": "Uu76Lkp4kbxd",
        "outputId": "f843ab91-9e54-48a2-adac-4298af8c6328"
      },
      "execution_count": null,
      "outputs": [
        {
          "output_type": "display_data",
          "data": {
            "text/plain": [
              "<Figure size 800x600 with 2 Axes>"
            ],
            "image/png": "[encoded data removed]"
          },
          "metadata": {}
        },
        {
          "output_type": "display_data",
          "data": {
            "text/plain": [
              "<Figure size 800x600 with 1 Axes>"
            ],
            "image/png": "[encoded data removed]"
          },
          "metadata": {}
        }
      ]
    },
    {
      "cell_type": "markdown",
      "source": [
        "<FONT SIZE=4 COLOR=\"green\"> Función de detección para patrones especificos"
      ],
      "metadata": {
        "id": "vlgA7UphE_sV"
      }
    },
    {
      "cell_type": "markdown",
      "source": [
        "La función detect_sensitive_info(text) busca patrones específicos en un texto para identificar información sensible, como correos electrónicos, números de tarjetas de crédito, teléfonos, identificaciones, direcciones, fechas de nacimiento, datos médicos o bancarios. Utiliza expresiones regulares (re.search) para detectar cada uno de estos patrones y devuelve True si encuentra algún dato sensible; de lo contrario, retorna False."
      ],
      "metadata": {
        "id": "i1RePXVBFM7y"
      }
    },
    {
      "cell_type": "code",
      "source": [
        "def detect_sensitive_info(text):\n",
        "    # Detectar correo electrónico\n",
        "    email_pattern = r'\\b\\w+@\\w+\\.\\w+\\b'\n",
        "    if re.search(email_pattern, text):\n",
        "        return True\n",
        "\n",
        "    # Detectar tarjeta de crédito\n",
        "    credit_card_pattern = r'\\b\\d{4}[- ]?\\d{4}[- ]?\\d{4}[- ]?\\d{4}\\b'\n",
        "    if re.search(credit_card_pattern, text):\n",
        "        return True\n",
        "\n",
        "    # Detectar número de teléfono\n",
        "    phone_pattern = r'\\b\\d{1,3}[- ]?\\d{1,3}[- ]?\\d{1,4}\\b'\n",
        "    if re.search(phone_pattern, text):\n",
        "        return True\n",
        "\n",
        "    # Detectar números de identificación (DNI, SSN, etc.)\n",
        "    id_pattern = r'\\b\\d{8,9}\\b'  # Ejemplo de DNI o SSN (ajustar según el formato necesario)\n",
        "    if re.search(id_pattern, text):\n",
        "        return True\n",
        "\n",
        "    # Detectar direcciones (muy simplificado, solo para ejemplos)\n",
        "    address_pattern = r'\\b\\d+\\s\\w+\\s\\w+\\b'  # Ejemplo básico para detección de direcciones\n",
        "    if re.search(address_pattern, text):\n",
        "        return True\n",
        "\n",
        "    # Detectar fechas de nacimiento (formato DD/MM/YYYY o similar)\n",
        "    dob_pattern = r'\\b\\d{1,2}[/-]\\d{1,2}[/-]\\d{2,4}\\b'\n",
        "    if re.search(dob_pattern, text):\n",
        "        return True\n",
        "\n",
        "    # Detectar datos médicos (ejemplo: números de historia clínica)\n",
        "    medical_record_pattern = r'\\b\\d{10,12}\\b'  # Número de historia clínica\n",
        "    if re.search(medical_record_pattern, text):\n",
        "        return True\n",
        "\n",
        "    # Detectar datos financieros (número de cuenta bancaria)\n",
        "    bank_account_pattern = r'\\b\\d{10,12}\\b'  # Número de cuenta bancaria (ajustar según el formato)\n",
        "    if re.search(bank_account_pattern, text):\n",
        "        return True\n",
        "\n",
        "    # Si no se detecta información sensible\n",
        "    return False"
      ],
      "metadata": {
        "id": "7Q8CI17SiH1s"
      },
      "execution_count": null,
      "outputs": []
    },
    {
      "cell_type": "markdown",
      "source": [
        "<FONT SIZE=4 COLOR=\"green\"> Función de ofuscación"
      ],
      "metadata": {
        "id": "MvP6FZpYiBqJ"
      }
    },
    {
      "cell_type": "markdown",
      "source": [
        "La función obfuscate(text) está diseñada para ofuscar (es decir, ocultar parcialmente) información sensible dentro de un texto, mientras se mantiene visible una parte relevante de los datos. Esto se logra mediante el uso de expresiones regulares para encontrar patrones específicos."
      ],
      "metadata": {
        "id": "h5ndQ9RgFhck"
      }
    },
    {
      "cell_type": "code",
      "source": [
        "def obfuscate(text):\n",
        "    # Ofuscar números de tarjeta de crédito (manteniendo los últimos 4 dígitos)\n",
        "    text = re.sub(r'\\b(\\d{4})([- ]?\\d{4}){3}\\b', lambda m: f\"{m.group(1)}-****-****-{m.group(0)[-4:]}\", text)\n",
        "\n",
        "    # Ofuscar números de teléfono (manteniendo los últimos 4 dígitos)\n",
        "    text = re.sub(r'\\b(\\d{1,3})[- ]?(\\d{1,3})[- ]?(\\d{1,4})\\b', lambda m: f\"****-****-{m.group(3)}\", text)\n",
        "\n",
        "    # Ofuscar correos electrónicos (manteniendo el primer carácter y el dominio visible)\n",
        "    text = re.sub(r'(\\w)(\\w+?)(@\\w+\\.\\w+)', lambda m: f\"{m.group(1)}{'*' * len(m.group(2))}{m.group(3)}\", text)\n",
        "\n",
        "    # Ofuscar contraseñas (debe estar precedida por \"contraseña\" o \"clave\")\n",
        "    text = re.sub(r'\\b(?:contraseña|clave):?\\s*(\\w{6,})\\b', lambda m: f\"{m.group(0).split(':')[0]}: {obfuscate_password(m.group(1))}\", text)\n",
        "\n",
        "    # Ofuscar números (manteniendo parte visible, excepto si están junto a \"número\")\n",
        "    text = re.sub(r'\\b(?!número)(\\d+)\\b', lambda m: obfuscate_number(m.group(0)), text)\n",
        "\n",
        "    return text\n",
        "\n",
        "def obfuscate_password(password):\n",
        "    length = len(password)\n",
        "    if length <= 2:\n",
        "        return password  # No ofuscar si es muy corto\n",
        "    keep_count = max(1, length // 5)  # Mantener al menos el 20%\n",
        "    obfuscated = '*' * (length - keep_count) + password[-keep_count:]\n",
        "    return obfuscated\n",
        "\n",
        "def obfuscate_number(number):\n",
        "    length = len(number)\n",
        "    if length <= 2:\n",
        "        return number  # No ofuscar si es muy corto\n",
        "    keep_count = max(1, length // 5)  # Mantener al menos el 20%\n",
        "    obfuscated = '*' * (length - keep_count) + number[-keep_count:]\n",
        "    return obfuscated"
      ],
      "metadata": {
        "id": "PBB_6HhkiDZK"
      },
      "execution_count": null,
      "outputs": []
    },
    {
      "cell_type": "markdown",
      "source": [
        "Ejemplo de uso"
      ],
      "metadata": {
        "id": "kLFH5Rr-Fl2y"
      }
    },
    {
      "cell_type": "code",
      "source": [
        "user_input = \"mi correo es sofia342@mail.com y mi número es 3424243423 y mi contraseña: pass1234\"\n",
        "obfuscated_output = obfuscate(user_input)\n",
        "print(obfuscated_output)"
      ],
      "metadata": {
        "colab": {
          "base_uri": "https://localhost:8080/"
        },
        "id": "F99mgGnmFojv",
        "outputId": "84881253-5db2-4fdd-eab1-9d8cf8c42603"
      },
      "execution_count": null,
      "outputs": [
        {
          "output_type": "stream",
          "name": "stdout",
          "text": [
            "mi correo es s*******@mail.com y mi número es ****-****-***3 y mi contraseña: *******4\n"
          ]
        }
      ]
    },
    {
      "cell_type": "markdown",
      "source": [
        "<FONT SIZE=4 COLOR=\"green\"> PRUEBAS"
      ],
      "metadata": {
        "id": "ihUvMRRZF3yk"
      }
    },
    {
      "cell_type": "code",
      "source": [
        "# Función para hacer predicciones\n",
        "def predict(texts):\n",
        "    # Tokenizar las entradas\n",
        "    encodings = tokenizer(texts, truncation=True, padding=True, max_length=128, return_tensors=\"pt\")\n",
        "\n",
        "    # Pasar los datos al modelo\n",
        "    with torch.no_grad():\n",
        "        outputs = model(**encodings)\n",
        "        logits = outputs.logits\n",
        "        predictions = torch.argmax(logits, axis=1).tolist()  # Obtener las etiquetas predichas (0 o 1)\n",
        "\n",
        "    return predictions"
      ],
      "metadata": {
        "id": "dgcWYRWnj3TK"
      },
      "execution_count": null,
      "outputs": []
    },
    {
      "cell_type": "code",
      "source": [
        "def test_detection_and_obfuscation(test_texts):\n",
        "    for text in test_texts:\n",
        "        if detect_sensitive_info(text):\n",
        "            obfuscated_text = obfuscate(text)\n",
        "            print(f\"Texto Original: {text}\\nTexto Ofuscado: {obfuscated_text}\\n\")\n",
        "        else:\n",
        "            label = predict([text])\n",
        "            if label[0] == 1:\n",
        "                obfuscated_text = obfuscate(text)\n",
        "                print(f\"Texto Original: {text}\\nTexto Ofuscado: {obfuscated_text}\\n\")\n",
        "            else:\n",
        "                print(f\"Texto No Sensible: {text}\\n\")\n",
        "\n",
        "# Proceso de entrada de usuario\n",
        "def process_user_input():\n",
        "    user_input = input(\"Ingresa el texto: \")\n",
        "    if detect_sensitive_info(user_input):\n",
        "        obfuscated_text = obfuscate(user_input)\n",
        "        print(f\"Texto Ofuscado: {obfuscated_text}\")\n",
        "    else:\n",
        "        label = predict([user_input])\n",
        "        if label[0] == 1:\n",
        "            obfuscated_text = obfuscate(user_input)\n",
        "            print(f\"Texto Ofuscado: {obfuscated_text}\")\n",
        "        else:\n",
        "            print(\"No se detectó información sensible.\")\n",
        "\n",
        "# Ejecutar pruebas en el conjunto de prueba\n",
        "test_detection_and_obfuscation(test_texts)\n",
        "\n",
        "# Proceso de entrada de usuario\n",
        "process_user_input()"
      ],
      "metadata": {
        "colab": {
          "base_uri": "https://localhost:8080/"
        },
        "id": "zB-NnlBTiOkC",
        "outputId": "b78e76cf-72ae-4c70-f05b-48d59a641040"
      },
      "execution_count": null,
      "outputs": [
        {
          "output_type": "stream",
          "name": "stdout",
          "text": [
            "Texto Original: Mis datos personales son privados.\n",
            "Texto Ofuscado: Mis datos personales son privados.\n",
            "\n",
            "Texto No Sensible: El evento será en el centro de la ciudad.\n",
            "\n",
            "Texto Original: Mi identificación es 678901234.\n",
            "Texto Ofuscado: Mi identificación es ****-****-**4.\n",
            "\n",
            "Texto Original: Mis datos son completamente privados.\n",
            "Texto Ofuscado: Mis datos son completamente privados.\n",
            "\n",
            "Texto Original: Mi dirección es Calle de la Ciencia 1.\n",
            "Texto Ofuscado: Mi dirección es Calle de la Ciencia 1.\n",
            "\n",
            "Texto Original: Mi dirección es Calle de la Esperanza 15.\n",
            "Texto Ofuscado: Mi dirección es Calle de la Esperanza 15.\n",
            "\n",
            "Texto Original: Mi nombre es Luis y mi ID es 89012.\n",
            "Texto Ofuscado: Mi nombre es Luis y mi ID es ****-****-2.\n",
            "\n",
            "Texto Original: Mi nombre es Juan Pérez y mi correo es juan.perez@gmail.com.\n",
            "Texto Ofuscado: Mi nombre es Juan Pérez y mi correo es juan.p****@gmail.com.\n",
            "\n",
            "Texto No Sensible: El evento se llevará a cabo en línea.\n",
            "\n",
            "Texto Original: Mi tarjeta de crédito es 4444-8888-7777-6666.\n",
            "Texto Ofuscado: Mi tarjeta de crédito es ****-****-4-****-****-****-****-6.\n",
            "\n",
            "Texto No Sensible: Mis preferencias de viaje están guardadas.\n",
            "\n",
            "Texto Original: Mi número de seguro social es 890-12-3456.\n",
            "Texto Ofuscado: Mi número de seguro social es ****-****-***6.\n",
            "\n",
            "Texto Original: Mi dirección de correo es correopersonal@dominio.com.\n",
            "Texto Ofuscado: Mi dirección de correo es c*************@dominio.com.\n",
            "\n",
            "Texto No Sensible: El evento se llevará a cabo el próximo mes.\n",
            "\n",
            "Texto Original: Mi número de seguro social es 987-65-4320.\n",
            "Texto Ofuscado: Mi número de seguro social es ****-****-***0.\n",
            "\n",
            "Texto No Sensible: El evento será en la oficina.\n",
            "\n",
            "Texto Original: Mi número de teléfono es 666-555-4444.\n",
            "Texto Ofuscado: Mi número de teléfono es ****-****-***4.\n",
            "\n",
            "Texto Original: Mi ID de empleado es 54321.\n",
            "Texto Ofuscado: Mi ID de empleado es ****-****-1.\n",
            "\n",
            "Texto Original: Mis datos no deben ser compartidos.\n",
            "Texto Ofuscado: Mis datos no deben ser compartidos.\n",
            "\n",
            "Texto Original: La próxima llamada es a las 3 PM.\n",
            "Texto Ofuscado: La próxima llamada es a las 3 PM.\n",
            "\n",
            "Texto Original: Mi número de seguro social es 567-89-0123.\n",
            "Texto Ofuscado: Mi número de seguro social es ****-****-***3.\n",
            "\n",
            "Texto Original: Mi número de identificación es 24680.\n",
            "Texto Ofuscado: Mi número de identificación es ****-****-0.\n",
            "\n",
            "Texto Original: Mi dirección es Calle de los Pinos 123.\n",
            "Texto Ofuscado: Mi dirección es Calle de los Pinos ****-****-3.\n",
            "\n",
            "Texto Original: Mis datos son confidenciales.\n",
            "Texto Ofuscado: Mis datos son confidenciales.\n",
            "\n",
            "Texto Original: Mi número de tarjeta es 5555-6666-7777-8888.\n",
            "Texto Ofuscado: Mi número de tarjeta es ****-****-5-****-****-****-****-8.\n",
            "\n",
            "Texto No Sensible: Los documentos están en la carpeta compartida.\n",
            "\n",
            "Texto Original: Mi nombre es Julio y mi correo es julio@mail.com.\n",
            "Texto Ofuscado: Mi nombre es Julio y mi correo es j****@mail.com.\n",
            "\n",
            "Texto Original: Mi dirección de correo es camila@ejemplo.com.\n",
            "Texto Ofuscado: Mi dirección de correo es c*****@ejemplo.com.\n",
            "\n",
            "Texto Original: Mi número de identificación es 13579.\n",
            "Texto Ofuscado: Mi número de identificación es ****-****-9.\n",
            "\n",
            "Texto Original: Mi correo de trabajo es agustin@empresa.com.\n",
            "Texto Ofuscado: Mi correo de trabajo es a******@empresa.com.\n",
            "\n",
            "Texto Original: Mi ID de usuario es usuario012.\n",
            "Texto Ofuscado: Mi ID de usuario es usuario012.\n",
            "\n",
            "Texto No Sensible: El evento se llevará a cabo el próximo viernes.\n",
            "\n",
            "Texto Original: Mi fecha de nacimiento es el 05/05/1995.\n",
            "Texto Ofuscado: Mi fecha de nacimiento es el 05/05/****-****-5.\n",
            "\n",
            "Texto Original: Mi tarjeta de crédito es 7777-6666-5555-4444.\n",
            "Texto Ofuscado: Mi tarjeta de crédito es ****-****-7-****-****-****-****-4.\n",
            "\n",
            "Texto Original: Mi nombre es Rosa y mi correo es rosa@example.com.\n",
            "Texto Ofuscado: Mi nombre es Rosa y mi correo es r***@example.com.\n",
            "\n",
            "Texto Original: Mi dirección es Calle de la Estrella 12.\n",
            "Texto Ofuscado: Mi dirección es Calle de la Estrella 12.\n",
            "\n",
            "Texto Original: Mi correo de trabajo es teresa@empresa.com.\n",
            "Texto Ofuscado: Mi correo de trabajo es t*****@empresa.com.\n",
            "\n",
            "Texto Original: Mi fecha de nacimiento es el 05/05/1985.\n",
            "Texto Ofuscado: Mi fecha de nacimiento es el 05/05/****-****-5.\n",
            "\n",
            "Texto Original: Mis datos son confidenciales.\n",
            "Texto Ofuscado: Mis datos son confidenciales.\n",
            "\n",
            "Texto Original: Mi correo es sofia@gmail.com.\n",
            "Texto Ofuscado: Mi correo es s****@gmail.com.\n",
            "\n",
            "Texto Original: Mi dirección es Av. Central 456.\n",
            "Texto Ofuscado: Mi dirección es Av. Central ****-****-6.\n",
            "\n",
            "Texto Original: Mi dirección de casa es Av. Central 123.\n",
            "Texto Ofuscado: Mi dirección de casa es Av. Central ****-****-3.\n",
            "\n",
            "Texto Original: Mi nombre es Martín y mi correo es martin@example.com.\n",
            "Texto Ofuscado: Mi nombre es Martín y mi correo es m*****@example.com.\n",
            "\n",
            "Texto No Sensible: El evento se llevará a cabo en la plaza.\n",
            "\n",
            "Texto Original: Mi número de cuenta es 123456789.\n",
            "Texto Ofuscado: Mi número de cuenta es ****-****-**9.\n",
            "\n",
            "Texto Original: Mi nombre es Aldo y mi correo es aldo@example.com.\n",
            "Texto Ofuscado: Mi nombre es Aldo y mi correo es a***@example.com.\n",
            "\n",
            "Texto Original: Mi nombre es Lourdes y mi correo es lourdes@mail.com.\n",
            "Texto Ofuscado: Mi nombre es Lourdes y mi correo es l******@mail.com.\n",
            "\n",
            "Texto Original: Mi correo es dalia@ejemplo.com.\n",
            "Texto Ofuscado: Mi correo es d****@ejemplo.com.\n",
            "\n",
            "Texto No Sensible: Mis trabajos anteriores están en mi CV.\n",
            "\n",
            "Texto Original: Mi dirección es Calle Verde 12.\n",
            "Texto Ofuscado: Mi dirección es Calle Verde 12.\n",
            "\n",
            "Texto No Sensible: El evento será en el café.\n",
            "\n",
            "Texto Original: Mi nombre es Victor y mi correo es victor@mail.com.\n",
            "Texto Ofuscado: Mi nombre es Victor y mi correo es v*****@mail.com.\n",
            "\n",
            "Texto Original: Mis datos financieros son privados.\n",
            "Texto Ofuscado: Mis datos financieros son privados.\n",
            "\n",
            "Texto Original: Mi número de identificación es 12345.\n",
            "Texto Ofuscado: Mi número de identificación es ****-****-5.\n",
            "\n",
            "Texto Original: Mi identificación es 876543210.\n",
            "Texto Ofuscado: Mi identificación es ****-****-**0.\n",
            "\n",
            "Texto Original: Mi nombre es Estela y mi correo es estela@mail.com.\n",
            "Texto Ofuscado: Mi nombre es Estela y mi correo es e*****@mail.com.\n",
            "\n",
            "Texto Original: Mis datos son extremadamente confidenciales.\n",
            "Texto Ofuscado: Mis datos son extremadamente confidenciales.\n",
            "\n",
            "Texto Original: Mi tarjeta de crédito es 7777-6666-5555-4444.\n",
            "Texto Ofuscado: Mi tarjeta de crédito es ****-****-7-****-****-****-****-4.\n",
            "\n",
            "Texto No Sensible: Mis documentos están organizados.\n",
            "\n",
            "Texto Original: Mi tarjeta de crédito es 2222-4444-6666-8888.\n",
            "Texto Ofuscado: Mi tarjeta de crédito es ****-****-2-****-****-****-****-8.\n",
            "\n",
            "Texto Original: Mi cuenta de correo es miemail@dominio.com.\n",
            "Texto Ofuscado: Mi cuenta de correo es m******@dominio.com.\n",
            "\n",
            "Texto Original: Mi dirección es Calle de la Luz 23.\n",
            "Texto Ofuscado: Mi dirección es Calle de la Luz 23.\n",
            "\n",
            "Texto Original: Puedes llamarme al 111-222-3333.\n",
            "Texto Ofuscado: Puedes llamarme al ****-****-***3.\n",
            "\n",
            "Texto Original: Mi nombre es Raquel y mi correo es raquel@mail.com.\n",
            "Texto Ofuscado: Mi nombre es Raquel y mi correo es r*****@mail.com.\n",
            "\n",
            "Texto Original: Mi tarjeta de crédito es 4444-2222-1111-3333.\n",
            "Texto Ofuscado: Mi tarjeta de crédito es ****-****-4-****-****-****-****-3.\n",
            "\n",
            "Texto Original: Mi ID de usuario es lorena456.\n",
            "Texto Ofuscado: Mi ID de usuario es lorena456.\n",
            "\n",
            "Texto Original: Mi dirección es Calle del Sol 90.\n",
            "Texto Ofuscado: Mi dirección es Calle del Sol 90.\n",
            "\n",
            "Texto No Sensible: El próximo evento será a las 3 PM.\n",
            "\n",
            "Texto Original: Mi número de identificación es 123456789.\n",
            "Texto Ofuscado: Mi número de identificación es ****-****-**9.\n",
            "\n",
            "Texto No Sensible: Mis preferencias son vegetarianas.\n",
            "\n",
            "Texto Original: Mi nombre es Camila y mi correo es camila@example.com.\n",
            "Texto Ofuscado: Mi nombre es Camila y mi correo es c*****@example.com.\n",
            "\n",
            "Texto Original: Mi número de teléfono es 888-999-0000.\n",
            "Texto Ofuscado: Mi número de teléfono es ****-****-***0.\n",
            "\n",
            "Texto No Sensible: El archivo está en la nube.\n",
            "\n",
            "Texto No Sensible: El evento será virtual.\n",
            "\n",
            "Texto Original: Mi nombre es Ignacio y mi correo es ignacio@example.com.\n",
            "Texto Ofuscado: Mi nombre es Ignacio y mi correo es i******@example.com.\n",
            "\n",
            "Texto No Sensible: El evento es a las 4 PM.\n",
            "\n",
            "Texto Original: Mi teléfono es 444-333-2222.\n",
            "Texto Ofuscado: Mi teléfono es ****-****-***2.\n",
            "\n",
            "Texto No Sensible: El evento será en el parque.\n",
            "\n",
            "Texto No Sensible: Mis datos son completamente seguros.\n",
            "\n",
            "Texto Original: Mi número de identificación es 24680.\n",
            "Texto Ofuscado: Mi número de identificación es ****-****-0.\n",
            "\n",
            "Texto Original: Mi número de tarjeta de crédito es 5555-6666-7777-8888.\n",
            "Texto Ofuscado: Mi número de tarjeta de crédito es ****-****-5-****-****-****-****-8.\n",
            "\n",
            "Texto Original: Mi número de teléfono es 333-444-5555.\n",
            "Texto Ofuscado: Mi número de teléfono es ****-****-***5.\n",
            "\n",
            "Texto No Sensible: Mis datos son seguros.\n",
            "\n",
            "Texto Original: Mi dirección es Calle de los Pinos 123.\n",
            "Texto Ofuscado: Mi dirección es Calle de los Pinos ****-****-3.\n",
            "\n",
            "Texto Original: Mis datos están encriptados.\n",
            "Texto Ofuscado: Mis datos están encriptados.\n",
            "\n",
            "Texto Original: Mi ID es 456789.\n",
            "Texto Ofuscado: Mi ID es ****-****-9.\n",
            "\n",
            "Texto Original: Mi número de identificación es 654321.\n",
            "Texto Ofuscado: Mi número de identificación es ****-****-1.\n",
            "\n",
            "Texto Original: Mi nombre es Daniel y mi correo es daniel@example.com.\n",
            "Texto Ofuscado: Mi nombre es Daniel y mi correo es d*****@example.com.\n",
            "\n",
            "Texto Original: Mis datos financieros son privados.\n",
            "Texto Ofuscado: Mis datos financieros son privados.\n",
            "\n",
            "Texto Original: Mi nombre es Noelia y mi correo es noelia@mail.com.\n",
            "Texto Ofuscado: Mi nombre es Noelia y mi correo es n*****@mail.com.\n",
            "\n",
            "Texto Original: Mi tarjeta de débito es 7777-8888-9999-0000.\n",
            "Texto Ofuscado: Mi tarjeta de débito es ****-****-7-****-****-****-****-0.\n",
            "\n",
            "Texto Original: Mi dirección es Av. Libertad 123.\n",
            "Texto Ofuscado: Mi dirección es Av. Libertad ****-****-3.\n",
            "\n",
            "Texto No Sensible: El evento será en el salón.\n",
            "\n",
            "Texto Original: Mi nombre es Fernanda y mi correo es fernanda@example.com.\n",
            "Texto Ofuscado: Mi nombre es Fernanda y mi correo es f*******@example.com.\n",
            "\n",
            "Texto Original: Mi nombre es Alicia y mi correo es alicia@mail.com.\n",
            "Texto Ofuscado: Mi nombre es Alicia y mi correo es a*****@mail.com.\n",
            "\n",
            "Texto No Sensible: Mis redes sociales están abiertas al público.\n",
            "\n",
            "Texto Original: Mi nombre es Cristian y mi correo es cristian@mail.com.\n",
            "Texto Ofuscado: Mi nombre es Cristian y mi correo es c*******@mail.com.\n",
            "\n",
            "Texto Original: Mi número de cuenta bancaria es 987654321.\n",
            "Texto Ofuscado: Mi número de cuenta bancaria es ****-****-**1.\n",
            "\n",
            "Texto No Sensible: El evento se llevará a cabo el viernes.\n",
            "\n",
            "Texto Original: Mi tarjeta de crédito es 2222-3333-4444-5555.\n",
            "Texto Ofuscado: Mi tarjeta de crédito es ****-****-2-****-****-****-****-5.\n",
            "\n",
            "Texto No Sensible: El evento será en el parque.\n",
            "\n",
            "Texto No Sensible: El evento se llevará a cabo el domingo.\n",
            "\n",
            "Texto Original: Mis datos financieros son privados.\n",
            "Texto Ofuscado: Mis datos financieros son privados.\n",
            "\n",
            "Texto Original: Mi número de cuenta es 1234567890.\n",
            "Texto Ofuscado: Mi número de cuenta es ****-****-***0.\n",
            "\n",
            "Texto Original: Mi número de teléfono es 999-000-1111.\n",
            "Texto Ofuscado: Mi número de teléfono es ****-****-***1.\n",
            "\n",
            "Texto Original: La clave de mi Wi-Fi es contraseña.\n",
            "Texto Ofuscado: La clave de mi Wi-Fi es contraseña.\n",
            "\n",
            "Texto Original: Mi nombre es Ramiro y mi correo es ramiro@mail.com.\n",
            "Texto Ofuscado: Mi nombre es Ramiro y mi correo es r*****@mail.com.\n",
            "\n",
            "Texto No Sensible: El evento será el lunes a las 10 AM.\n",
            "\n",
            "Texto Original: Mi nombre es Fernando y mi correo es fernando@mail.com.\n",
            "Texto Ofuscado: Mi nombre es Fernando y mi correo es f*******@mail.com.\n",
            "\n",
            "Texto No Sensible: Mis documentos están protegidos con contraseña.\n",
            "\n",
            "Texto Original: El número de mi tarjeta de crédito es 8888-7777-6666-5555.\n",
            "Texto Ofuscado: El número de mi tarjeta de crédito es ****-****-8-****-****-****-****-5.\n",
            "\n",
            "Texto Original: Mi número de identificación es 35791.\n",
            "Texto Ofuscado: Mi número de identificación es ****-****-1.\n",
            "\n",
            "Texto Original: El número de mi tarjeta es 6666-7777-8888-9999.\n",
            "Texto Ofuscado: El número de mi tarjeta es ****-****-6-****-****-****-****-9.\n",
            "\n",
            "Texto Original: Mi dirección es Calle Verde 12.\n",
            "Texto Ofuscado: Mi dirección es Calle Verde 12.\n",
            "\n",
            "Texto Original: Mi fecha de vencimiento es el 12/23.\n",
            "Texto Ofuscado: Mi fecha de vencimiento es el 12/23.\n",
            "\n",
            "Texto Original: Mi número de teléfono es 555-333-6666.\n",
            "Texto Ofuscado: Mi número de teléfono es ****-****-***6.\n",
            "\n",
            "Texto No Sensible: No tengo nada que ocultar.\n",
            "\n",
            "Texto Original: Mi nombre es Martín y mi correo es martin@example.com.\n",
            "Texto Ofuscado: Mi nombre es Martín y mi correo es m*****@example.com.\n",
            "\n",
            "Texto Original: Mi tarjeta de crédito es 2222-3333-4444-5555.\n",
            "Texto Ofuscado: Mi tarjeta de crédito es ****-****-2-****-****-****-****-5.\n",
            "\n",
            "Texto Original: Mi dirección es Calle de las Américas 8.\n",
            "Texto Ofuscado: Mi dirección es Calle de las Américas 8.\n",
            "\n",
            "Texto Original: Mi dirección de correo es leonor@ejemplo.com.\n",
            "Texto Ofuscado: Mi dirección de correo es l*****@ejemplo.com.\n",
            "\n",
            "Texto Original: Mi nombre es Gabriela y mi correo es gabriela@mail.com.\n",
            "Texto Ofuscado: Mi nombre es Gabriela y mi correo es g*******@mail.com.\n",
            "\n",
            "Texto Original: Mi nombre es Esteban y mi correo es esteban@example.com.\n",
            "Texto Ofuscado: Mi nombre es Esteban y mi correo es e******@example.com.\n",
            "\n",
            "Texto Original: Mi número de identificación es 234567890.\n",
            "Texto Ofuscado: Mi número de identificación es ****-****-**0.\n",
            "\n",
            "Texto Original: El número de mi tarjeta de débito es 9999-8888-7777-6666.\n",
            "Texto Ofuscado: El número de mi tarjeta de débito es ****-****-9-****-****-****-****-6.\n",
            "\n",
            "Texto Original: Mi número de cuenta es 987-654-3210.\n",
            "Texto Ofuscado: Mi número de cuenta es ****-****-***0.\n",
            "\n",
            "Texto Original: Mi dirección es Calle Verde 12.\n",
            "Texto Ofuscado: Mi dirección es Calle Verde 12.\n",
            "\n",
            "Texto Original: El número de mi tarjeta es 3333-4444-5555-6666.\n",
            "Texto Ofuscado: El número de mi tarjeta es ****-****-3-****-****-****-****-6.\n",
            "\n",
            "Texto Original: Mi teléfono es 111-222-3333.\n",
            "Texto Ofuscado: Mi teléfono es ****-****-***3.\n",
            "\n",
            "Texto Original: Mi dirección es Avenida del Río 33.\n",
            "Texto Ofuscado: Mi dirección es Avenida del Río 33.\n",
            "\n",
            "Texto Original: Mi ID es 98765.\n",
            "Texto Ofuscado: Mi ID es ****-****-5.\n",
            "\n",
            "Texto Original: Mi dirección es Calle del Sol 789.\n",
            "Texto Ofuscado: Mi dirección es Calle del Sol ****-****-9.\n",
            "\n",
            "Texto Original: Mi nombre es Sofía y mi correo es sofia@gmail.com.\n",
            "Texto Ofuscado: Mi nombre es Sofía y mi correo es s****@gmail.com.\n",
            "\n",
            "Texto Original: Mi ID de empleado es 65432.\n",
            "Texto Ofuscado: Mi ID de empleado es ****-****-2.\n",
            "\n",
            "Texto Original: Mi nombre es Lucía y mi correo es lucia@example.com.\n",
            "Texto Ofuscado: Mi nombre es Lucía y mi correo es l****@example.com.\n",
            "\n",
            "Texto Original: Mi número de teléfono es 666-555-4444.\n",
            "Texto Ofuscado: Mi número de teléfono es ****-****-***4.\n",
            "\n",
            "Texto Original: Mi tarjeta de crédito es 7777-6666-5555-4444.\n",
            "Texto Ofuscado: Mi tarjeta de crédito es ****-****-7-****-****-****-****-4.\n",
            "\n",
            "Texto Original: El número de mi tarjeta de crédito es 8888-7777-6666-5555.\n",
            "Texto Ofuscado: El número de mi tarjeta de crédito es ****-****-8-****-****-****-****-5.\n",
            "\n",
            "Texto Original: Mi ID de empleado es 65432.\n",
            "Texto Ofuscado: Mi ID de empleado es ****-****-2.\n",
            "\n",
            "Texto Original: El ID de mi usuario es usuario789.\n",
            "Texto Ofuscado: El ID de mi usuario es usuario789.\n",
            "\n",
            "Texto Original: Mi número de identificación es 13579.\n",
            "Texto Ofuscado: Mi número de identificación es ****-****-9.\n",
            "\n",
            "Texto Original: El ID de usuario es usuario123.\n",
            "Texto Ofuscado: El ID de usuario es usuario123.\n",
            "\n",
            "Texto Original: Mi nombre es Ximena y mi correo es ximena@mail.com.\n",
            "Texto Ofuscado: Mi nombre es Ximena y mi correo es x*****@mail.com.\n",
            "\n",
            "Texto Original: Mi nombre es Laura y mi correo es laura@example.com.\n",
            "Texto Ofuscado: Mi nombre es Laura y mi correo es l****@example.com.\n",
            "\n",
            "Texto Original: Mi fecha de nacimiento es el 30/01/1990.\n",
            "Texto Ofuscado: Mi fecha de nacimiento es el 30/01/****-****-0.\n",
            "\n",
            "Texto Original: Mi número de teléfono es 999-888-7777.\n",
            "Texto Ofuscado: Mi número de teléfono es ****-****-***7.\n",
            "\n",
            "Texto No Sensible: El evento se llevará a cabo el sábado.\n",
            "\n",
            "Texto Original: Mi nombre es Jorge y mi correo es jorge@mail.com.\n",
            "Texto Ofuscado: Mi nombre es Jorge y mi correo es j****@mail.com.\n",
            "\n",
            "Texto Original: Mi número de teléfono es 555-222-4444.\n",
            "Texto Ofuscado: Mi número de teléfono es ****-****-***4.\n",
            "\n",
            "Texto No Sensible: Mis preferencias son personales.\n",
            "\n",
            "Texto No Sensible: El evento será en línea.\n",
            "\n",
            "Texto Original: Mis datos son confidenciales.\n",
            "Texto Ofuscado: Mis datos son confidenciales.\n",
            "\n",
            "Texto No Sensible: El evento es a las 6 PM.\n",
            "\n",
            "Texto Original: Mi nombre es Leticia y mi correo es leticia@mail.com.\n",
            "Texto Ofuscado: Mi nombre es Leticia y mi correo es l******@mail.com.\n",
            "\n",
            "Texto Original: El número de mi tarjeta es 4444-5555-6666-7777.\n",
            "Texto Ofuscado: El número de mi tarjeta es ****-****-4-****-****-****-****-7.\n",
            "\n",
            "Texto Original: Mi nombre es Emiliano y mi correo es emiliano@mail.com.\n",
            "Texto Ofuscado: Mi nombre es Emiliano y mi correo es e*******@mail.com.\n",
            "\n",
            "Texto Original: Mi nombre es Andrés y mi correo es andres@gmail.com.\n",
            "Texto Ofuscado: Mi nombre es Andrés y mi correo es a*****@gmail.com.\n",
            "\n",
            "Texto Original: Mi número de identificación es 13579.\n",
            "Texto Ofuscado: Mi número de identificación es ****-****-9.\n",
            "\n",
            "Texto Original: Mi tarjeta de crédito es 3333-2222-1111-4444.\n",
            "Texto Ofuscado: Mi tarjeta de crédito es ****-****-3-****-****-****-****-4.\n",
            "\n",
            "Texto Original: El número de mi tarjeta es 1111-2222-3333-4444.\n",
            "Texto Ofuscado: El número de mi tarjeta es ****-****-1-****-****-****-****-4.\n",
            "\n",
            "Texto Original: Mi nombre es Cristian y mi correo es cristian@example.com.\n",
            "Texto Ofuscado: Mi nombre es Cristian y mi correo es c*******@example.com.\n",
            "\n",
            "Texto Original: Mi número de tarjeta es 9999-8888-7777-6666.\n",
            "Texto Ofuscado: Mi número de tarjeta es ****-****-9-****-****-****-****-6.\n",
            "\n",
            "Texto Original: Mi dirección es Calle del Sol 789.\n",
            "Texto Ofuscado: Mi dirección es Calle del Sol ****-****-9.\n",
            "\n",
            "Texto Original: Mi dirección es Calle de la Libertad 45.\n",
            "Texto Ofuscado: Mi dirección es Calle de la Libertad 45.\n",
            "\n",
            "Texto Original: Mis datos personales son confidenciales.\n",
            "Texto Ofuscado: Mis datos personales son confidenciales.\n",
            "\n",
            "Texto Original: Mis datos son confidenciales.\n",
            "Texto Ofuscado: Mis datos son confidenciales.\n",
            "\n",
            "Texto Original: Mi teléfono es 444-333-2222.\n",
            "Texto Ofuscado: Mi teléfono es ****-****-***2.\n",
            "\n",
            "Texto Original: Mis datos personales son privados.\n",
            "Texto Ofuscado: Mis datos personales son privados.\n",
            "\n",
            "Ingresa el texto: mi numero de tarjeta es 1565-5415-8787-6554\n",
            "Texto Ofuscado: mi numero de tarjeta es ****-****-5-****-****-****-****-4\n"
          ]
        }
      ]
    },
    {
      "cell_type": "markdown",
      "source": [
        "<FONT SIZE=5 COLOR=\"green\"> INTEGRACIÓN CON CHATGPT E INTERRACIÓN CON EL USUARIO"
      ],
      "metadata": {
        "id": "0DncBjS2ul_1"
      }
    },
    {
      "cell_type": "markdown",
      "source": [
        "La función **process_with_chatgpt** está diseñada para interactuar con el usuario de manera que proteja la privacidad y la seguridad de los datos. Si el usuario ingresa información sensible, tanto el texto como la respuesta de ChatGPT se ofuscan de manera parcial para evitar la exposición de datos privados. Además, se realiza una doble verificación (modelo entrenado y patrones) para detectar si el texto contiene información sensible."
      ],
      "metadata": {
        "id": "pTllRnPUGznJ"
      }
    },
    {
      "cell_type": "code",
      "source": [
        "def process_with_chatgpt(user_input):\n",
        "    # Clasificación usando el modelo entrenado\n",
        "    model_prediction = predict(user_input)  # 0 = no sensible, 1 = sensible\n",
        "\n",
        "    # Detección basada en patrones\n",
        "    is_sensitive = detect_sensitive_info(user_input)\n",
        "\n",
        "    # Combinar ambos resultados\n",
        "    is_sensitive = is_sensitive or (model_prediction[0] == 1)\n",
        "\n",
        "    # Ofuscar el texto de entrada\n",
        "    obfuscated_input = obfuscate(user_input)\n",
        "\n",
        "    # Llamada a la API de ChatGPT\n",
        "    response = openai.ChatCompletion.create(\n",
        "        model=\"gpt-3.5-turbo\",\n",
        "        messages=[\n",
        "            {\"role\": \"user\", \"content\": obfuscated_input}\n",
        "        ]\n",
        "    )\n",
        "\n",
        "    #Obtener y ofuscar la respuesta del modelo\n",
        "    bot_response = response['choices'][0]['message']['content']\n",
        "    obfuscated_response = obfuscate(bot_response)\n",
        "\n",
        "    return is_sensitive, obfuscated_input, obfuscated_response  # Retornar resultados\n",
        "\n",
        "# Interfaz de usuario\n",
        "def main():\n",
        "    while True:\n",
        "        user_input = input(\"Ingresa tu texto (o 'salir' para terminar): \")\n",
        "        if user_input.lower() == 'salir':\n",
        "            break\n",
        "\n",
        "        # Procesar el texto con las funciones actualizadas\n",
        "        is_sensitive, obfuscated_input, obfuscated_response = process_with_chatgpt(user_input)\n",
        "\n",
        "        sensitive_status = \"sensible\" if is_sensitive else \"no sensible\"\n",
        "        print(f\"Texto Ofuscado Ingresado: {obfuscated_input} (Información {sensitive_status})\")\n",
        "        print(f\"Respuesta Ofuscada: {obfuscated_response}\")\n",
        "\n",
        "if __name__ == \"__main__\":\n",
        "    main()\n"
      ],
      "metadata": {
        "colab": {
          "base_uri": "https://localhost:8080/"
        },
        "id": "8a3NSYQy0ffa",
        "outputId": "ff3c329b-965c-43ac-987d-a9fa082f8440"
      },
      "execution_count": null,
      "outputs": [
        {
          "name": "stdout",
          "output_type": "stream",
          "text": [
            "Ingresa tu texto (o 'salir' para terminar): mi numero es 34223424 y mi correo es sofia4322@yahoo.com\n",
            "Texto Ofuscado Ingresado: mi numero es ****-****-24 y mi correo es s********@yahoo.com (Información sensible)\n",
            "Respuesta Ofuscada: Gracias por proporcionar tu información de contacto. Si necesitas algo más, por favor házmelo saber.\n",
            "Ingresa tu texto (o 'salir' para terminar): mi tarjeta de credito es 3424234324 y su clave es TarJeta342321*\n",
            "Texto Ofuscado Ingresado: mi tarjeta de credito es ****-****-***4 y su clave es TarJeta342321* (Información sensible)\n",
            "Respuesta Ofuscada: Lo siento, pero no se recomienda compartir información confidencial como el número de tu tarjeta de crédito y su clave en un lugar público. Es importante proteger tus datos personales para evitar posibles fraudes o robos de identidad. Te recomendaría que evites compartir esta información en línea y que la mantengas segura. Si tienes alguna preocupación sobre la seguridad de tu tarjeta de crédito, te sugiero comunicarte con tu banco para obtener asesoramiento. ¿Hay algo más en lo que pueda ayudarte?\n",
            "Ingresa tu texto (o 'salir' para terminar): si el correo de mi mama es sandra231332@gmail.com cual es su nombre?\n",
            "Texto Ofuscado Ingresado: si el correo de mi mama es s***********@gmail.com cual es su nombre? (Información sensible)\n",
            "Respuesta Ofuscada: Lo siento, no puedo proporcionar información personal sobre individuos basándome en su dirección de correo electrónico. Te recomendaría preguntarle directamente a tu mamá cuál es su nombre.\n",
            "Ingresa tu texto (o 'salir' para terminar): salir\n"
          ]
        }
      ]
    }
  ]
}