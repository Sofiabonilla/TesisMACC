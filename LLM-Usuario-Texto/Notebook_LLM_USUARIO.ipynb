{
  "nbformat": 4,
  "nbformat_minor": 0,
  "metadata": {
    "colab": {
      "provenance": []
    },
    "kernelspec": {
      "name": "python3",
      "display_name": "Python 3"
    },
    "language_info": {
      "name": "python"
    },
    "widgets": {
      "application/vnd.jupyter.widget-state+json": {
        "dfb2ad38850c46bdb23aa1027a2e3517": {
          "model_module": "@jupyter-widgets/controls",
          "model_name": "HBoxModel",
          "model_module_version": "1.5.0",
          "state": {
            "_dom_classes": [],
            "_model_module": "@jupyter-widgets/controls",
            "_model_module_version": "1.5.0",
            "_model_name": "HBoxModel",
            "_view_count": null,
            "_view_module": "@jupyter-widgets/controls",
            "_view_module_version": "1.5.0",
            "_view_name": "HBoxView",
            "box_style": "",
            "children": [
              "IPY_MODEL_1bb465966ac74f8f99e074791588967d",
              "IPY_MODEL_5a9f92049aa94650bc1bf7b84e318794",
              "IPY_MODEL_7a2ab5421475481db6992ece382ba67b"
            ],
            "layout": "IPY_MODEL_d27bdef4ea9c47f8b9c8c958d9a85535"
          }
        },
        "1bb465966ac74f8f99e074791588967d": {
          "model_module": "@jupyter-widgets/controls",
          "model_name": "HTMLModel",
          "model_module_version": "1.5.0",
          "state": {
            "_dom_classes": [],
            "_model_module": "@jupyter-widgets/controls",
            "_model_module_version": "1.5.0",
            "_model_name": "HTMLModel",
            "_view_count": null,
            "_view_module": "@jupyter-widgets/controls",
            "_view_module_version": "1.5.0",
            "_view_name": "HTMLView",
            "description": "",
            "description_tooltip": null,
            "layout": "IPY_MODEL_25acb6f96ae1437a83b26020d33cae2b",
            "placeholder": "​",
            "style": "IPY_MODEL_0cddaba094f34a4ea2ed050454462870",
            "value": "tokenizer_config.json: 100%"
          }
        },
        "5a9f92049aa94650bc1bf7b84e318794": {
          "model_module": "@jupyter-widgets/controls",
          "model_name": "FloatProgressModel",
          "model_module_version": "1.5.0",
          "state": {
            "_dom_classes": [],
            "_model_module": "@jupyter-widgets/controls",
            "_model_module_version": "1.5.0",
            "_model_name": "FloatProgressModel",
            "_view_count": null,
            "_view_module": "@jupyter-widgets/controls",
            "_view_module_version": "1.5.0",
            "_view_name": "ProgressView",
            "bar_style": "success",
            "description": "",
            "description_tooltip": null,
            "layout": "IPY_MODEL_af45e5fba0ca4782b8580ad02a43c6a0",
            "max": 48,
            "min": 0,
            "orientation": "horizontal",
            "style": "IPY_MODEL_d634eace6cc540f9a1fd0b255fe24196",
            "value": 48
          }
        },
        "7a2ab5421475481db6992ece382ba67b": {
          "model_module": "@jupyter-widgets/controls",
          "model_name": "HTMLModel",
          "model_module_version": "1.5.0",
          "state": {
            "_dom_classes": [],
            "_model_module": "@jupyter-widgets/controls",
            "_model_module_version": "1.5.0",
            "_model_name": "HTMLModel",
            "_view_count": null,
            "_view_module": "@jupyter-widgets/controls",
            "_view_module_version": "1.5.0",
            "_view_name": "HTMLView",
            "description": "",
            "description_tooltip": null,
            "layout": "IPY_MODEL_25aa0753f435436ba1acfdf60228dd69",
            "placeholder": "​",
            "style": "IPY_MODEL_f150cdeb623843979c0c0e479070f9f0",
            "value": " 48.0/48.0 [00:00&lt;00:00, 807B/s]"
          }
        },
        "d27bdef4ea9c47f8b9c8c958d9a85535": {
          "model_module": "@jupyter-widgets/base",
          "model_name": "LayoutModel",
          "model_module_version": "1.2.0",
          "state": {
            "_model_module": "@jupyter-widgets/base",
            "_model_module_version": "1.2.0",
            "_model_name": "LayoutModel",
            "_view_count": null,
            "_view_module": "@jupyter-widgets/base",
            "_view_module_version": "1.2.0",
            "_view_name": "LayoutView",
            "align_content": null,
            "align_items": null,
            "align_self": null,
            "border": null,
            "bottom": null,
            "display": null,
            "flex": null,
            "flex_flow": null,
            "grid_area": null,
            "grid_auto_columns": null,
            "grid_auto_flow": null,
            "grid_auto_rows": null,
            "grid_column": null,
            "grid_gap": null,
            "grid_row": null,
            "grid_template_areas": null,
            "grid_template_columns": null,
            "grid_template_rows": null,
            "height": null,
            "justify_content": null,
            "justify_items": null,
            "left": null,
            "margin": null,
            "max_height": null,
            "max_width": null,
            "min_height": null,
            "min_width": null,
            "object_fit": null,
            "object_position": null,
            "order": null,
            "overflow": null,
            "overflow_x": null,
            "overflow_y": null,
            "padding": null,
            "right": null,
            "top": null,
            "visibility": null,
            "width": null
          }
        },
        "25acb6f96ae1437a83b26020d33cae2b": {
          "model_module": "@jupyter-widgets/base",
          "model_name": "LayoutModel",
          "model_module_version": "1.2.0",
          "state": {
            "_model_module": "@jupyter-widgets/base",
            "_model_module_version": "1.2.0",
            "_model_name": "LayoutModel",
            "_view_count": null,
            "_view_module": "@jupyter-widgets/base",
            "_view_module_version": "1.2.0",
            "_view_name": "LayoutView",
            "align_content": null,
            "align_items": null,
            "align_self": null,
            "border": null,
            "bottom": null,
            "display": null,
            "flex": null,
            "flex_flow": null,
            "grid_area": null,
            "grid_auto_columns": null,
            "grid_auto_flow": null,
            "grid_auto_rows": null,
            "grid_column": null,
            "grid_gap": null,
            "grid_row": null,
            "grid_template_areas": null,
            "grid_template_columns": null,
            "grid_template_rows": null,
            "height": null,
            "justify_content": null,
            "justify_items": null,
            "left": null,
            "margin": null,
            "max_height": null,
            "max_width": null,
            "min_height": null,
            "min_width": null,
            "object_fit": null,
            "object_position": null,
            "order": null,
            "overflow": null,
            "overflow_x": null,
            "overflow_y": null,
            "padding": null,
            "right": null,
            "top": null,
            "visibility": null,
            "width": null
          }
        },
        "0cddaba094f34a4ea2ed050454462870": {
          "model_module": "@jupyter-widgets/controls",
          "model_name": "DescriptionStyleModel",
          "model_module_version": "1.5.0",
          "state": {
            "_model_module": "@jupyter-widgets/controls",
            "_model_module_version": "1.5.0",
            "_model_name": "DescriptionStyleModel",
            "_view_count": null,
            "_view_module": "@jupyter-widgets/base",
            "_view_module_version": "1.2.0",
            "_view_name": "StyleView",
            "description_width": ""
          }
        },
        "af45e5fba0ca4782b8580ad02a43c6a0": {
          "model_module": "@jupyter-widgets/base",
          "model_name": "LayoutModel",
          "model_module_version": "1.2.0",
          "state": {
            "_model_module": "@jupyter-widgets/base",
            "_model_module_version": "1.2.0",
            "_model_name": "LayoutModel",
            "_view_count": null,
            "_view_module": "@jupyter-widgets/base",
            "_view_module_version": "1.2.0",
            "_view_name": "LayoutView",
            "align_content": null,
            "align_items": null,
            "align_self": null,
            "border": null,
            "bottom": null,
            "display": null,
            "flex": null,
            "flex_flow": null,
            "grid_area": null,
            "grid_auto_columns": null,
            "grid_auto_flow": null,
            "grid_auto_rows": null,
            "grid_column": null,
            "grid_gap": null,
            "grid_row": null,
            "grid_template_areas": null,
            "grid_template_columns": null,
            "grid_template_rows": null,
            "height": null,
            "justify_content": null,
            "justify_items": null,
            "left": null,
            "margin": null,
            "max_height": null,
            "max_width": null,
            "min_height": null,
            "min_width": null,
            "object_fit": null,
            "object_position": null,
            "order": null,
            "overflow": null,
            "overflow_x": null,
            "overflow_y": null,
            "padding": null,
            "right": null,
            "top": null,
            "visibility": null,
            "width": null
          }
        },
        "d634eace6cc540f9a1fd0b255fe24196": {
          "model_module": "@jupyter-widgets/controls",
          "model_name": "ProgressStyleModel",
          "model_module_version": "1.5.0",
          "state": {
            "_model_module": "@jupyter-widgets/controls",
            "_model_module_version": "1.5.0",
            "_model_name": "ProgressStyleModel",
            "_view_count": null,
            "_view_module": "@jupyter-widgets/base",
            "_view_module_version": "1.2.0",
            "_view_name": "StyleView",
            "bar_color": null,
            "description_width": ""
          }
        },
        "25aa0753f435436ba1acfdf60228dd69": {
          "model_module": "@jupyter-widgets/base",
          "model_name": "LayoutModel",
          "model_module_version": "1.2.0",
          "state": {
            "_model_module": "@jupyter-widgets/base",
            "_model_module_version": "1.2.0",
            "_model_name": "LayoutModel",
            "_view_count": null,
            "_view_module": "@jupyter-widgets/base",
            "_view_module_version": "1.2.0",
            "_view_name": "LayoutView",
            "align_content": null,
            "align_items": null,
            "align_self": null,
            "border": null,
            "bottom": null,
            "display": null,
            "flex": null,
            "flex_flow": null,
            "grid_area": null,
            "grid_auto_columns": null,
            "grid_auto_flow": null,
            "grid_auto_rows": null,
            "grid_column": null,
            "grid_gap": null,
            "grid_row": null,
            "grid_template_areas": null,
            "grid_template_columns": null,
            "grid_template_rows": null,
            "height": null,
            "justify_content": null,
            "justify_items": null,
            "left": null,
            "margin": null,
            "max_height": null,
            "max_width": null,
            "min_height": null,
            "min_width": null,
            "object_fit": null,
            "object_position": null,
            "order": null,
            "overflow": null,
            "overflow_x": null,
            "overflow_y": null,
            "padding": null,
            "right": null,
            "top": null,
            "visibility": null,
            "width": null
          }
        },
        "f150cdeb623843979c0c0e479070f9f0": {
          "model_module": "@jupyter-widgets/controls",
          "model_name": "DescriptionStyleModel",
          "model_module_version": "1.5.0",
          "state": {
            "_model_module": "@jupyter-widgets/controls",
            "_model_module_version": "1.5.0",
            "_model_name": "DescriptionStyleModel",
            "_view_count": null,
            "_view_module": "@jupyter-widgets/base",
            "_view_module_version": "1.2.0",
            "_view_name": "StyleView",
            "description_width": ""
          }
        },
        "129b07a56a4c49638b8d7623fb871a57": {
          "model_module": "@jupyter-widgets/controls",
          "model_name": "HBoxModel",
          "model_module_version": "1.5.0",
          "state": {
            "_dom_classes": [],
            "_model_module": "@jupyter-widgets/controls",
            "_model_module_version": "1.5.0",
            "_model_name": "HBoxModel",
            "_view_count": null,
            "_view_module": "@jupyter-widgets/controls",
            "_view_module_version": "1.5.0",
            "_view_name": "HBoxView",
            "box_style": "",
            "children": [
              "IPY_MODEL_f86feac38191462eafac225a7ef00315",
              "IPY_MODEL_9e1f5381ea9a49c394a38882cdd90bc8",
              "IPY_MODEL_96c1a97cb3f84157a432e81578ac3c40"
            ],
            "layout": "IPY_MODEL_6908fb4332a240438ce542e494400993"
          }
        },
        "f86feac38191462eafac225a7ef00315": {
          "model_module": "@jupyter-widgets/controls",
          "model_name": "HTMLModel",
          "model_module_version": "1.5.0",
          "state": {
            "_dom_classes": [],
            "_model_module": "@jupyter-widgets/controls",
            "_model_module_version": "1.5.0",
            "_model_name": "HTMLModel",
            "_view_count": null,
            "_view_module": "@jupyter-widgets/controls",
            "_view_module_version": "1.5.0",
            "_view_name": "HTMLView",
            "description": "",
            "description_tooltip": null,
            "layout": "IPY_MODEL_e28ee42c89734a09b78feb70eecef921",
            "placeholder": "​",
            "style": "IPY_MODEL_80a49c4839af4677aa496a5c16598bc3",
            "value": "vocab.txt: 100%"
          }
        },
        "9e1f5381ea9a49c394a38882cdd90bc8": {
          "model_module": "@jupyter-widgets/controls",
          "model_name": "FloatProgressModel",
          "model_module_version": "1.5.0",
          "state": {
            "_dom_classes": [],
            "_model_module": "@jupyter-widgets/controls",
            "_model_module_version": "1.5.0",
            "_model_name": "FloatProgressModel",
            "_view_count": null,
            "_view_module": "@jupyter-widgets/controls",
            "_view_module_version": "1.5.0",
            "_view_name": "ProgressView",
            "bar_style": "success",
            "description": "",
            "description_tooltip": null,
            "layout": "IPY_MODEL_5a340dfb45f7430e973396790023e3b4",
            "max": 231508,
            "min": 0,
            "orientation": "horizontal",
            "style": "IPY_MODEL_a77b0d5b472d43968461d1e0eb4e2e3f",
            "value": 231508
          }
        },
        "96c1a97cb3f84157a432e81578ac3c40": {
          "model_module": "@jupyter-widgets/controls",
          "model_name": "HTMLModel",
          "model_module_version": "1.5.0",
          "state": {
            "_dom_classes": [],
            "_model_module": "@jupyter-widgets/controls",
            "_model_module_version": "1.5.0",
            "_model_name": "HTMLModel",
            "_view_count": null,
            "_view_module": "@jupyter-widgets/controls",
            "_view_module_version": "1.5.0",
            "_view_name": "HTMLView",
            "description": "",
            "description_tooltip": null,
            "layout": "IPY_MODEL_b352cb074f73465cb8e5f58da46a7e41",
            "placeholder": "​",
            "style": "IPY_MODEL_0bc6c5a844f44b9aa6bf10987b7d20b7",
            "value": " 232k/232k [00:00&lt;00:00, 1.98MB/s]"
          }
        },
        "6908fb4332a240438ce542e494400993": {
          "model_module": "@jupyter-widgets/base",
          "model_name": "LayoutModel",
          "model_module_version": "1.2.0",
          "state": {
            "_model_module": "@jupyter-widgets/base",
            "_model_module_version": "1.2.0",
            "_model_name": "LayoutModel",
            "_view_count": null,
            "_view_module": "@jupyter-widgets/base",
            "_view_module_version": "1.2.0",
            "_view_name": "LayoutView",
            "align_content": null,
            "align_items": null,
            "align_self": null,
            "border": null,
            "bottom": null,
            "display": null,
            "flex": null,
            "flex_flow": null,
            "grid_area": null,
            "grid_auto_columns": null,
            "grid_auto_flow": null,
            "grid_auto_rows": null,
            "grid_column": null,
            "grid_gap": null,
            "grid_row": null,
            "grid_template_areas": null,
            "grid_template_columns": null,
            "grid_template_rows": null,
            "height": null,
            "justify_content": null,
            "justify_items": null,
            "left": null,
            "margin": null,
            "max_height": null,
            "max_width": null,
            "min_height": null,
            "min_width": null,
            "object_fit": null,
            "object_position": null,
            "order": null,
            "overflow": null,
            "overflow_x": null,
            "overflow_y": null,
            "padding": null,
            "right": null,
            "top": null,
            "visibility": null,
            "width": null
          }
        },
        "e28ee42c89734a09b78feb70eecef921": {
          "model_module": "@jupyter-widgets/base",
          "model_name": "LayoutModel",
          "model_module_version": "1.2.0",
          "state": {
            "_model_module": "@jupyter-widgets/base",
            "_model_module_version": "1.2.0",
            "_model_name": "LayoutModel",
            "_view_count": null,
            "_view_module": "@jupyter-widgets/base",
            "_view_module_version": "1.2.0",
            "_view_name": "LayoutView",
            "align_content": null,
            "align_items": null,
            "align_self": null,
            "border": null,
            "bottom": null,
            "display": null,
            "flex": null,
            "flex_flow": null,
            "grid_area": null,
            "grid_auto_columns": null,
            "grid_auto_flow": null,
            "grid_auto_rows": null,
            "grid_column": null,
            "grid_gap": null,
            "grid_row": null,
            "grid_template_areas": null,
            "grid_template_columns": null,
            "grid_template_rows": null,
            "height": null,
            "justify_content": null,
            "justify_items": null,
            "left": null,
            "margin": null,
            "max_height": null,
            "max_width": null,
            "min_height": null,
            "min_width": null,
            "object_fit": null,
            "object_position": null,
            "order": null,
            "overflow": null,
            "overflow_x": null,
            "overflow_y": null,
            "padding": null,
            "right": null,
            "top": null,
            "visibility": null,
            "width": null
          }
        },
        "80a49c4839af4677aa496a5c16598bc3": {
          "model_module": "@jupyter-widgets/controls",
          "model_name": "DescriptionStyleModel",
          "model_module_version": "1.5.0",
          "state": {
            "_model_module": "@jupyter-widgets/controls",
            "_model_module_version": "1.5.0",
            "_model_name": "DescriptionStyleModel",
            "_view_count": null,
            "_view_module": "@jupyter-widgets/base",
            "_view_module_version": "1.2.0",
            "_view_name": "StyleView",
            "description_width": ""
          }
        },
        "5a340dfb45f7430e973396790023e3b4": {
          "model_module": "@jupyter-widgets/base",
          "model_name": "LayoutModel",
          "model_module_version": "1.2.0",
          "state": {
            "_model_module": "@jupyter-widgets/base",
            "_model_module_version": "1.2.0",
            "_model_name": "LayoutModel",
            "_view_count": null,
            "_view_module": "@jupyter-widgets/base",
            "_view_module_version": "1.2.0",
            "_view_name": "LayoutView",
            "align_content": null,
            "align_items": null,
            "align_self": null,
            "border": null,
            "bottom": null,
            "display": null,
            "flex": null,
            "flex_flow": null,
            "grid_area": null,
            "grid_auto_columns": null,
            "grid_auto_flow": null,
            "grid_auto_rows": null,
            "grid_column": null,
            "grid_gap": null,
            "grid_row": null,
            "grid_template_areas": null,
            "grid_template_columns": null,
            "grid_template_rows": null,
            "height": null,
            "justify_content": null,
            "justify_items": null,
            "left": null,
            "margin": null,
            "max_height": null,
            "max_width": null,
            "min_height": null,
            "min_width": null,
            "object_fit": null,
            "object_position": null,
            "order": null,
            "overflow": null,
            "overflow_x": null,
            "overflow_y": null,
            "padding": null,
            "right": null,
            "top": null,
            "visibility": null,
            "width": null
          }
        },
        "a77b0d5b472d43968461d1e0eb4e2e3f": {
          "model_module": "@jupyter-widgets/controls",
          "model_name": "ProgressStyleModel",
          "model_module_version": "1.5.0",
          "state": {
            "_model_module": "@jupyter-widgets/controls",
            "_model_module_version": "1.5.0",
            "_model_name": "ProgressStyleModel",
            "_view_count": null,
            "_view_module": "@jupyter-widgets/base",
            "_view_module_version": "1.2.0",
            "_view_name": "StyleView",
            "bar_color": null,
            "description_width": ""
          }
        },
        "b352cb074f73465cb8e5f58da46a7e41": {
          "model_module": "@jupyter-widgets/base",
          "model_name": "LayoutModel",
          "model_module_version": "1.2.0",
          "state": {
            "_model_module": "@jupyter-widgets/base",
            "_model_module_version": "1.2.0",
            "_model_name": "LayoutModel",
            "_view_count": null,
            "_view_module": "@jupyter-widgets/base",
            "_view_module_version": "1.2.0",
            "_view_name": "LayoutView",
            "align_content": null,
            "align_items": null,
            "align_self": null,
            "border": null,
            "bottom": null,
            "display": null,
            "flex": null,
            "flex_flow": null,
            "grid_area": null,
            "grid_auto_columns": null,
            "grid_auto_flow": null,
            "grid_auto_rows": null,
            "grid_column": null,
            "grid_gap": null,
            "grid_row": null,
            "grid_template_areas": null,
            "grid_template_columns": null,
            "grid_template_rows": null,
            "height": null,
            "justify_content": null,
            "justify_items": null,
            "left": null,
            "margin": null,
            "max_height": null,
            "max_width": null,
            "min_height": null,
            "min_width": null,
            "object_fit": null,
            "object_position": null,
            "order": null,
            "overflow": null,
            "overflow_x": null,
            "overflow_y": null,
            "padding": null,
            "right": null,
            "top": null,
            "visibility": null,
            "width": null
          }
        },
        "0bc6c5a844f44b9aa6bf10987b7d20b7": {
          "model_module": "@jupyter-widgets/controls",
          "model_name": "DescriptionStyleModel",
          "model_module_version": "1.5.0",
          "state": {
            "_model_module": "@jupyter-widgets/controls",
            "_model_module_version": "1.5.0",
            "_model_name": "DescriptionStyleModel",
            "_view_count": null,
            "_view_module": "@jupyter-widgets/base",
            "_view_module_version": "1.2.0",
            "_view_name": "StyleView",
            "description_width": ""
          }
        },
        "c23b566a782a4bcf8aab84d5d16ddb9f": {
          "model_module": "@jupyter-widgets/controls",
          "model_name": "HBoxModel",
          "model_module_version": "1.5.0",
          "state": {
            "_dom_classes": [],
            "_model_module": "@jupyter-widgets/controls",
            "_model_module_version": "1.5.0",
            "_model_name": "HBoxModel",
            "_view_count": null,
            "_view_module": "@jupyter-widgets/controls",
            "_view_module_version": "1.5.0",
            "_view_name": "HBoxView",
            "box_style": "",
            "children": [
              "IPY_MODEL_f575727864294d169cb247174be2d093",
              "IPY_MODEL_19d5cbf44ce547b8a8014be57131be14",
              "IPY_MODEL_7dd94993582545db80cea9461d146c1c"
            ],
            "layout": "IPY_MODEL_09a35ebe59f94e79ad5601d12a0497b2"
          }
        },
        "f575727864294d169cb247174be2d093": {
          "model_module": "@jupyter-widgets/controls",
          "model_name": "HTMLModel",
          "model_module_version": "1.5.0",
          "state": {
            "_dom_classes": [],
            "_model_module": "@jupyter-widgets/controls",
            "_model_module_version": "1.5.0",
            "_model_name": "HTMLModel",
            "_view_count": null,
            "_view_module": "@jupyter-widgets/controls",
            "_view_module_version": "1.5.0",
            "_view_name": "HTMLView",
            "description": "",
            "description_tooltip": null,
            "layout": "IPY_MODEL_bb82a548896744efa6b28849e5891e66",
            "placeholder": "​",
            "style": "IPY_MODEL_5cc67bf24598457eafdc8f7390e2d7c6",
            "value": "tokenizer.json: 100%"
          }
        },
        "19d5cbf44ce547b8a8014be57131be14": {
          "model_module": "@jupyter-widgets/controls",
          "model_name": "FloatProgressModel",
          "model_module_version": "1.5.0",
          "state": {
            "_dom_classes": [],
            "_model_module": "@jupyter-widgets/controls",
            "_model_module_version": "1.5.0",
            "_model_name": "FloatProgressModel",
            "_view_count": null,
            "_view_module": "@jupyter-widgets/controls",
            "_view_module_version": "1.5.0",
            "_view_name": "ProgressView",
            "bar_style": "success",
            "description": "",
            "description_tooltip": null,
            "layout": "IPY_MODEL_0655e78a56024834bf5f9212d5cbfe58",
            "max": 466062,
            "min": 0,
            "orientation": "horizontal",
            "style": "IPY_MODEL_7c9e8a4bce7c4ee5a015191eb0466816",
            "value": 466062
          }
        },
        "7dd94993582545db80cea9461d146c1c": {
          "model_module": "@jupyter-widgets/controls",
          "model_name": "HTMLModel",
          "model_module_version": "1.5.0",
          "state": {
            "_dom_classes": [],
            "_model_module": "@jupyter-widgets/controls",
            "_model_module_version": "1.5.0",
            "_model_name": "HTMLModel",
            "_view_count": null,
            "_view_module": "@jupyter-widgets/controls",
            "_view_module_version": "1.5.0",
            "_view_name": "HTMLView",
            "description": "",
            "description_tooltip": null,
            "layout": "IPY_MODEL_b681ac38d5c34505a264d5fa0944c287",
            "placeholder": "​",
            "style": "IPY_MODEL_54e62f1729c24495b2a697606bfa293e",
            "value": " 466k/466k [00:00&lt;00:00, 7.89MB/s]"
          }
        },
        "09a35ebe59f94e79ad5601d12a0497b2": {
          "model_module": "@jupyter-widgets/base",
          "model_name": "LayoutModel",
          "model_module_version": "1.2.0",
          "state": {
            "_model_module": "@jupyter-widgets/base",
            "_model_module_version": "1.2.0",
            "_model_name": "LayoutModel",
            "_view_count": null,
            "_view_module": "@jupyter-widgets/base",
            "_view_module_version": "1.2.0",
            "_view_name": "LayoutView",
            "align_content": null,
            "align_items": null,
            "align_self": null,
            "border": null,
            "bottom": null,
            "display": null,
            "flex": null,
            "flex_flow": null,
            "grid_area": null,
            "grid_auto_columns": null,
            "grid_auto_flow": null,
            "grid_auto_rows": null,
            "grid_column": null,
            "grid_gap": null,
            "grid_row": null,
            "grid_template_areas": null,
            "grid_template_columns": null,
            "grid_template_rows": null,
            "height": null,
            "justify_content": null,
            "justify_items": null,
            "left": null,
            "margin": null,
            "max_height": null,
            "max_width": null,
            "min_height": null,
            "min_width": null,
            "object_fit": null,
            "object_position": null,
            "order": null,
            "overflow": null,
            "overflow_x": null,
            "overflow_y": null,
            "padding": null,
            "right": null,
            "top": null,
            "visibility": null,
            "width": null
          }
        },
        "bb82a548896744efa6b28849e5891e66": {
          "model_module": "@jupyter-widgets/base",
          "model_name": "LayoutModel",
          "model_module_version": "1.2.0",
          "state": {
            "_model_module": "@jupyter-widgets/base",
            "_model_module_version": "1.2.0",
            "_model_name": "LayoutModel",
            "_view_count": null,
            "_view_module": "@jupyter-widgets/base",
            "_view_module_version": "1.2.0",
            "_view_name": "LayoutView",
            "align_content": null,
            "align_items": null,
            "align_self": null,
            "border": null,
            "bottom": null,
            "display": null,
            "flex": null,
            "flex_flow": null,
            "grid_area": null,
            "grid_auto_columns": null,
            "grid_auto_flow": null,
            "grid_auto_rows": null,
            "grid_column": null,
            "grid_gap": null,
            "grid_row": null,
            "grid_template_areas": null,
            "grid_template_columns": null,
            "grid_template_rows": null,
            "height": null,
            "justify_content": null,
            "justify_items": null,
            "left": null,
            "margin": null,
            "max_height": null,
            "max_width": null,
            "min_height": null,
            "min_width": null,
            "object_fit": null,
            "object_position": null,
            "order": null,
            "overflow": null,
            "overflow_x": null,
            "overflow_y": null,
            "padding": null,
            "right": null,
            "top": null,
            "visibility": null,
            "width": null
          }
        },
        "5cc67bf24598457eafdc8f7390e2d7c6": {
          "model_module": "@jupyter-widgets/controls",
          "model_name": "DescriptionStyleModel",
          "model_module_version": "1.5.0",
          "state": {
            "_model_module": "@jupyter-widgets/controls",
            "_model_module_version": "1.5.0",
            "_model_name": "DescriptionStyleModel",
            "_view_count": null,
            "_view_module": "@jupyter-widgets/base",
            "_view_module_version": "1.2.0",
            "_view_name": "StyleView",
            "description_width": ""
          }
        },
        "0655e78a56024834bf5f9212d5cbfe58": {
          "model_module": "@jupyter-widgets/base",
          "model_name": "LayoutModel",
          "model_module_version": "1.2.0",
          "state": {
            "_model_module": "@jupyter-widgets/base",
            "_model_module_version": "1.2.0",
            "_model_name": "LayoutModel",
            "_view_count": null,
            "_view_module": "@jupyter-widgets/base",
            "_view_module_version": "1.2.0",
            "_view_name": "LayoutView",
            "align_content": null,
            "align_items": null,
            "align_self": null,
            "border": null,
            "bottom": null,
            "display": null,
            "flex": null,
            "flex_flow": null,
            "grid_area": null,
            "grid_auto_columns": null,
            "grid_auto_flow": null,
            "grid_auto_rows": null,
            "grid_column": null,
            "grid_gap": null,
            "grid_row": null,
            "grid_template_areas": null,
            "grid_template_columns": null,
            "grid_template_rows": null,
            "height": null,
            "justify_content": null,
            "justify_items": null,
            "left": null,
            "margin": null,
            "max_height": null,
            "max_width": null,
            "min_height": null,
            "min_width": null,
            "object_fit": null,
            "object_position": null,
            "order": null,
            "overflow": null,
            "overflow_x": null,
            "overflow_y": null,
            "padding": null,
            "right": null,
            "top": null,
            "visibility": null,
            "width": null
          }
        },
        "7c9e8a4bce7c4ee5a015191eb0466816": {
          "model_module": "@jupyter-widgets/controls",
          "model_name": "ProgressStyleModel",
          "model_module_version": "1.5.0",
          "state": {
            "_model_module": "@jupyter-widgets/controls",
            "_model_module_version": "1.5.0",
            "_model_name": "ProgressStyleModel",
            "_view_count": null,
            "_view_module": "@jupyter-widgets/base",
            "_view_module_version": "1.2.0",
            "_view_name": "StyleView",
            "bar_color": null,
            "description_width": ""
          }
        },
        "b681ac38d5c34505a264d5fa0944c287": {
          "model_module": "@jupyter-widgets/base",
          "model_name": "LayoutModel",
          "model_module_version": "1.2.0",
          "state": {
            "_model_module": "@jupyter-widgets/base",
            "_model_module_version": "1.2.0",
            "_model_name": "LayoutModel",
            "_view_count": null,
            "_view_module": "@jupyter-widgets/base",
            "_view_module_version": "1.2.0",
            "_view_name": "LayoutView",
            "align_content": null,
            "align_items": null,
            "align_self": null,
            "border": null,
            "bottom": null,
            "display": null,
            "flex": null,
            "flex_flow": null,
            "grid_area": null,
            "grid_auto_columns": null,
            "grid_auto_flow": null,
            "grid_auto_rows": null,
            "grid_column": null,
            "grid_gap": null,
            "grid_row": null,
            "grid_template_areas": null,
            "grid_template_columns": null,
            "grid_template_rows": null,
            "height": null,
            "justify_content": null,
            "justify_items": null,
            "left": null,
            "margin": null,
            "max_height": null,
            "max_width": null,
            "min_height": null,
            "min_width": null,
            "object_fit": null,
            "object_position": null,
            "order": null,
            "overflow": null,
            "overflow_x": null,
            "overflow_y": null,
            "padding": null,
            "right": null,
            "top": null,
            "visibility": null,
            "width": null
          }
        },
        "54e62f1729c24495b2a697606bfa293e": {
          "model_module": "@jupyter-widgets/controls",
          "model_name": "DescriptionStyleModel",
          "model_module_version": "1.5.0",
          "state": {
            "_model_module": "@jupyter-widgets/controls",
            "_model_module_version": "1.5.0",
            "_model_name": "DescriptionStyleModel",
            "_view_count": null,
            "_view_module": "@jupyter-widgets/base",
            "_view_module_version": "1.2.0",
            "_view_name": "StyleView",
            "description_width": ""
          }
        },
        "a0171c06b31d4d91bb6d5bb546fdd241": {
          "model_module": "@jupyter-widgets/controls",
          "model_name": "HBoxModel",
          "model_module_version": "1.5.0",
          "state": {
            "_dom_classes": [],
            "_model_module": "@jupyter-widgets/controls",
            "_model_module_version": "1.5.0",
            "_model_name": "HBoxModel",
            "_view_count": null,
            "_view_module": "@jupyter-widgets/controls",
            "_view_module_version": "1.5.0",
            "_view_name": "HBoxView",
            "box_style": "",
            "children": [
              "IPY_MODEL_a56368077cca49069c634ef886a9de87",
              "IPY_MODEL_0f5f46c141094f8cb6a299f647b4d67c",
              "IPY_MODEL_0ccbee1e379640298be0a3402c2d7c30"
            ],
            "layout": "IPY_MODEL_4439f2a8200e4e95aafe5899bfc5d607"
          }
        },
        "a56368077cca49069c634ef886a9de87": {
          "model_module": "@jupyter-widgets/controls",
          "model_name": "HTMLModel",
          "model_module_version": "1.5.0",
          "state": {
            "_dom_classes": [],
            "_model_module": "@jupyter-widgets/controls",
            "_model_module_version": "1.5.0",
            "_model_name": "HTMLModel",
            "_view_count": null,
            "_view_module": "@jupyter-widgets/controls",
            "_view_module_version": "1.5.0",
            "_view_name": "HTMLView",
            "description": "",
            "description_tooltip": null,
            "layout": "IPY_MODEL_17d541c67c994651a1ddb06b0734d9fc",
            "placeholder": "​",
            "style": "IPY_MODEL_b39823bfa52e4375995180fa250f5be1",
            "value": "config.json: 100%"
          }
        },
        "0f5f46c141094f8cb6a299f647b4d67c": {
          "model_module": "@jupyter-widgets/controls",
          "model_name": "FloatProgressModel",
          "model_module_version": "1.5.0",
          "state": {
            "_dom_classes": [],
            "_model_module": "@jupyter-widgets/controls",
            "_model_module_version": "1.5.0",
            "_model_name": "FloatProgressModel",
            "_view_count": null,
            "_view_module": "@jupyter-widgets/controls",
            "_view_module_version": "1.5.0",
            "_view_name": "ProgressView",
            "bar_style": "success",
            "description": "",
            "description_tooltip": null,
            "layout": "IPY_MODEL_7316a1d0f8b542d491e0b850b8ee8eee",
            "max": 483,
            "min": 0,
            "orientation": "horizontal",
            "style": "IPY_MODEL_3b904bd4018f4a369ba73fe95e6fc491",
            "value": 483
          }
        },
        "0ccbee1e379640298be0a3402c2d7c30": {
          "model_module": "@jupyter-widgets/controls",
          "model_name": "HTMLModel",
          "model_module_version": "1.5.0",
          "state": {
            "_dom_classes": [],
            "_model_module": "@jupyter-widgets/controls",
            "_model_module_version": "1.5.0",
            "_model_name": "HTMLModel",
            "_view_count": null,
            "_view_module": "@jupyter-widgets/controls",
            "_view_module_version": "1.5.0",
            "_view_name": "HTMLView",
            "description": "",
            "description_tooltip": null,
            "layout": "IPY_MODEL_30aee45f72654a40acf0041cefcb32de",
            "placeholder": "​",
            "style": "IPY_MODEL_3044b67e2d204c4b984eae896cf1e27e",
            "value": " 483/483 [00:00&lt;00:00, 10.4kB/s]"
          }
        },
        "4439f2a8200e4e95aafe5899bfc5d607": {
          "model_module": "@jupyter-widgets/base",
          "model_name": "LayoutModel",
          "model_module_version": "1.2.0",
          "state": {
            "_model_module": "@jupyter-widgets/base",
            "_model_module_version": "1.2.0",
            "_model_name": "LayoutModel",
            "_view_count": null,
            "_view_module": "@jupyter-widgets/base",
            "_view_module_version": "1.2.0",
            "_view_name": "LayoutView",
            "align_content": null,
            "align_items": null,
            "align_self": null,
            "border": null,
            "bottom": null,
            "display": null,
            "flex": null,
            "flex_flow": null,
            "grid_area": null,
            "grid_auto_columns": null,
            "grid_auto_flow": null,
            "grid_auto_rows": null,
            "grid_column": null,
            "grid_gap": null,
            "grid_row": null,
            "grid_template_areas": null,
            "grid_template_columns": null,
            "grid_template_rows": null,
            "height": null,
            "justify_content": null,
            "justify_items": null,
            "left": null,
            "margin": null,
            "max_height": null,
            "max_width": null,
            "min_height": null,
            "min_width": null,
            "object_fit": null,
            "object_position": null,
            "order": null,
            "overflow": null,
            "overflow_x": null,
            "overflow_y": null,
            "padding": null,
            "right": null,
            "top": null,
            "visibility": null,
            "width": null
          }
        },
        "17d541c67c994651a1ddb06b0734d9fc": {
          "model_module": "@jupyter-widgets/base",
          "model_name": "LayoutModel",
          "model_module_version": "1.2.0",
          "state": {
            "_model_module": "@jupyter-widgets/base",
            "_model_module_version": "1.2.0",
            "_model_name": "LayoutModel",
            "_view_count": null,
            "_view_module": "@jupyter-widgets/base",
            "_view_module_version": "1.2.0",
            "_view_name": "LayoutView",
            "align_content": null,
            "align_items": null,
            "align_self": null,
            "border": null,
            "bottom": null,
            "display": null,
            "flex": null,
            "flex_flow": null,
            "grid_area": null,
            "grid_auto_columns": null,
            "grid_auto_flow": null,
            "grid_auto_rows": null,
            "grid_column": null,
            "grid_gap": null,
            "grid_row": null,
            "grid_template_areas": null,
            "grid_template_columns": null,
            "grid_template_rows": null,
            "height": null,
            "justify_content": null,
            "justify_items": null,
            "left": null,
            "margin": null,
            "max_height": null,
            "max_width": null,
            "min_height": null,
            "min_width": null,
            "object_fit": null,
            "object_position": null,
            "order": null,
            "overflow": null,
            "overflow_x": null,
            "overflow_y": null,
            "padding": null,
            "right": null,
            "top": null,
            "visibility": null,
            "width": null
          }
        },
        "b39823bfa52e4375995180fa250f5be1": {
          "model_module": "@jupyter-widgets/controls",
          "model_name": "DescriptionStyleModel",
          "model_module_version": "1.5.0",
          "state": {
            "_model_module": "@jupyter-widgets/controls",
            "_model_module_version": "1.5.0",
            "_model_name": "DescriptionStyleModel",
            "_view_count": null,
            "_view_module": "@jupyter-widgets/base",
            "_view_module_version": "1.2.0",
            "_view_name": "StyleView",
            "description_width": ""
          }
        },
        "7316a1d0f8b542d491e0b850b8ee8eee": {
          "model_module": "@jupyter-widgets/base",
          "model_name": "LayoutModel",
          "model_module_version": "1.2.0",
          "state": {
            "_model_module": "@jupyter-widgets/base",
            "_model_module_version": "1.2.0",
            "_model_name": "LayoutModel",
            "_view_count": null,
            "_view_module": "@jupyter-widgets/base",
            "_view_module_version": "1.2.0",
            "_view_name": "LayoutView",
            "align_content": null,
            "align_items": null,
            "align_self": null,
            "border": null,
            "bottom": null,
            "display": null,
            "flex": null,
            "flex_flow": null,
            "grid_area": null,
            "grid_auto_columns": null,
            "grid_auto_flow": null,
            "grid_auto_rows": null,
            "grid_column": null,
            "grid_gap": null,
            "grid_row": null,
            "grid_template_areas": null,
            "grid_template_columns": null,
            "grid_template_rows": null,
            "height": null,
            "justify_content": null,
            "justify_items": null,
            "left": null,
            "margin": null,
            "max_height": null,
            "max_width": null,
            "min_height": null,
            "min_width": null,
            "object_fit": null,
            "object_position": null,
            "order": null,
            "overflow": null,
            "overflow_x": null,
            "overflow_y": null,
            "padding": null,
            "right": null,
            "top": null,
            "visibility": null,
            "width": null
          }
        },
        "3b904bd4018f4a369ba73fe95e6fc491": {
          "model_module": "@jupyter-widgets/controls",
          "model_name": "ProgressStyleModel",
          "model_module_version": "1.5.0",
          "state": {
            "_model_module": "@jupyter-widgets/controls",
            "_model_module_version": "1.5.0",
            "_model_name": "ProgressStyleModel",
            "_view_count": null,
            "_view_module": "@jupyter-widgets/base",
            "_view_module_version": "1.2.0",
            "_view_name": "StyleView",
            "bar_color": null,
            "description_width": ""
          }
        },
        "30aee45f72654a40acf0041cefcb32de": {
          "model_module": "@jupyter-widgets/base",
          "model_name": "LayoutModel",
          "model_module_version": "1.2.0",
          "state": {
            "_model_module": "@jupyter-widgets/base",
            "_model_module_version": "1.2.0",
            "_model_name": "LayoutModel",
            "_view_count": null,
            "_view_module": "@jupyter-widgets/base",
            "_view_module_version": "1.2.0",
            "_view_name": "LayoutView",
            "align_content": null,
            "align_items": null,
            "align_self": null,
            "border": null,
            "bottom": null,
            "display": null,
            "flex": null,
            "flex_flow": null,
            "grid_area": null,
            "grid_auto_columns": null,
            "grid_auto_flow": null,
            "grid_auto_rows": null,
            "grid_column": null,
            "grid_gap": null,
            "grid_row": null,
            "grid_template_areas": null,
            "grid_template_columns": null,
            "grid_template_rows": null,
            "height": null,
            "justify_content": null,
            "justify_items": null,
            "left": null,
            "margin": null,
            "max_height": null,
            "max_width": null,
            "min_height": null,
            "min_width": null,
            "object_fit": null,
            "object_position": null,
            "order": null,
            "overflow": null,
            "overflow_x": null,
            "overflow_y": null,
            "padding": null,
            "right": null,
            "top": null,
            "visibility": null,
            "width": null
          }
        },
        "3044b67e2d204c4b984eae896cf1e27e": {
          "model_module": "@jupyter-widgets/controls",
          "model_name": "DescriptionStyleModel",
          "model_module_version": "1.5.0",
          "state": {
            "_model_module": "@jupyter-widgets/controls",
            "_model_module_version": "1.5.0",
            "_model_name": "DescriptionStyleModel",
            "_view_count": null,
            "_view_module": "@jupyter-widgets/base",
            "_view_module_version": "1.2.0",
            "_view_name": "StyleView",
            "description_width": ""
          }
        },
        "e874b5a92be247428fa78c00b900d1fa": {
          "model_module": "@jupyter-widgets/controls",
          "model_name": "HBoxModel",
          "model_module_version": "1.5.0",
          "state": {
            "_dom_classes": [],
            "_model_module": "@jupyter-widgets/controls",
            "_model_module_version": "1.5.0",
            "_model_name": "HBoxModel",
            "_view_count": null,
            "_view_module": "@jupyter-widgets/controls",
            "_view_module_version": "1.5.0",
            "_view_name": "HBoxView",
            "box_style": "",
            "children": [
              "IPY_MODEL_5e882ebb2dbb461c9cd31dd043d51393",
              "IPY_MODEL_9d119e8ca98443e28da7a72b8ba378b8",
              "IPY_MODEL_44cdb4efcdc0462ab71d4f23d1404ec3"
            ],
            "layout": "IPY_MODEL_379e3d0b502448b7971d5bd1e24ed3ca"
          }
        },
        "5e882ebb2dbb461c9cd31dd043d51393": {
          "model_module": "@jupyter-widgets/controls",
          "model_name": "HTMLModel",
          "model_module_version": "1.5.0",
          "state": {
            "_dom_classes": [],
            "_model_module": "@jupyter-widgets/controls",
            "_model_module_version": "1.5.0",
            "_model_name": "HTMLModel",
            "_view_count": null,
            "_view_module": "@jupyter-widgets/controls",
            "_view_module_version": "1.5.0",
            "_view_name": "HTMLView",
            "description": "",
            "description_tooltip": null,
            "layout": "IPY_MODEL_991bbf03ab754e11926314728422a2f8",
            "placeholder": "​",
            "style": "IPY_MODEL_5f9fdcf9b8c1449fa397817e82d6cfc1",
            "value": "model.safetensors: 100%"
          }
        },
        "9d119e8ca98443e28da7a72b8ba378b8": {
          "model_module": "@jupyter-widgets/controls",
          "model_name": "FloatProgressModel",
          "model_module_version": "1.5.0",
          "state": {
            "_dom_classes": [],
            "_model_module": "@jupyter-widgets/controls",
            "_model_module_version": "1.5.0",
            "_model_name": "FloatProgressModel",
            "_view_count": null,
            "_view_module": "@jupyter-widgets/controls",
            "_view_module_version": "1.5.0",
            "_view_name": "ProgressView",
            "bar_style": "success",
            "description": "",
            "description_tooltip": null,
            "layout": "IPY_MODEL_fcf8027e495249ffbd269fe557aa2047",
            "max": 267954768,
            "min": 0,
            "orientation": "horizontal",
            "style": "IPY_MODEL_8803f7588bb34f38920a378ac9ac5f6a",
            "value": 267954768
          }
        },
        "44cdb4efcdc0462ab71d4f23d1404ec3": {
          "model_module": "@jupyter-widgets/controls",
          "model_name": "HTMLModel",
          "model_module_version": "1.5.0",
          "state": {
            "_dom_classes": [],
            "_model_module": "@jupyter-widgets/controls",
            "_model_module_version": "1.5.0",
            "_model_name": "HTMLModel",
            "_view_count": null,
            "_view_module": "@jupyter-widgets/controls",
            "_view_module_version": "1.5.0",
            "_view_name": "HTMLView",
            "description": "",
            "description_tooltip": null,
            "layout": "IPY_MODEL_ca3f15b6d76543d9a5df8eb69bbb2541",
            "placeholder": "​",
            "style": "IPY_MODEL_1e9467dae7e94ccda537f7b44a6af5b8",
            "value": " 268M/268M [00:03&lt;00:00, 86.7MB/s]"
          }
        },
        "379e3d0b502448b7971d5bd1e24ed3ca": {
          "model_module": "@jupyter-widgets/base",
          "model_name": "LayoutModel",
          "model_module_version": "1.2.0",
          "state": {
            "_model_module": "@jupyter-widgets/base",
            "_model_module_version": "1.2.0",
            "_model_name": "LayoutModel",
            "_view_count": null,
            "_view_module": "@jupyter-widgets/base",
            "_view_module_version": "1.2.0",
            "_view_name": "LayoutView",
            "align_content": null,
            "align_items": null,
            "align_self": null,
            "border": null,
            "bottom": null,
            "display": null,
            "flex": null,
            "flex_flow": null,
            "grid_area": null,
            "grid_auto_columns": null,
            "grid_auto_flow": null,
            "grid_auto_rows": null,
            "grid_column": null,
            "grid_gap": null,
            "grid_row": null,
            "grid_template_areas": null,
            "grid_template_columns": null,
            "grid_template_rows": null,
            "height": null,
            "justify_content": null,
            "justify_items": null,
            "left": null,
            "margin": null,
            "max_height": null,
            "max_width": null,
            "min_height": null,
            "min_width": null,
            "object_fit": null,
            "object_position": null,
            "order": null,
            "overflow": null,
            "overflow_x": null,
            "overflow_y": null,
            "padding": null,
            "right": null,
            "top": null,
            "visibility": null,
            "width": null
          }
        },
        "991bbf03ab754e11926314728422a2f8": {
          "model_module": "@jupyter-widgets/base",
          "model_name": "LayoutModel",
          "model_module_version": "1.2.0",
          "state": {
            "_model_module": "@jupyter-widgets/base",
            "_model_module_version": "1.2.0",
            "_model_name": "LayoutModel",
            "_view_count": null,
            "_view_module": "@jupyter-widgets/base",
            "_view_module_version": "1.2.0",
            "_view_name": "LayoutView",
            "align_content": null,
            "align_items": null,
            "align_self": null,
            "border": null,
            "bottom": null,
            "display": null,
            "flex": null,
            "flex_flow": null,
            "grid_area": null,
            "grid_auto_columns": null,
            "grid_auto_flow": null,
            "grid_auto_rows": null,
            "grid_column": null,
            "grid_gap": null,
            "grid_row": null,
            "grid_template_areas": null,
            "grid_template_columns": null,
            "grid_template_rows": null,
            "height": null,
            "justify_content": null,
            "justify_items": null,
            "left": null,
            "margin": null,
            "max_height": null,
            "max_width": null,
            "min_height": null,
            "min_width": null,
            "object_fit": null,
            "object_position": null,
            "order": null,
            "overflow": null,
            "overflow_x": null,
            "overflow_y": null,
            "padding": null,
            "right": null,
            "top": null,
            "visibility": null,
            "width": null
          }
        },
        "5f9fdcf9b8c1449fa397817e82d6cfc1": {
          "model_module": "@jupyter-widgets/controls",
          "model_name": "DescriptionStyleModel",
          "model_module_version": "1.5.0",
          "state": {
            "_model_module": "@jupyter-widgets/controls",
            "_model_module_version": "1.5.0",
            "_model_name": "DescriptionStyleModel",
            "_view_count": null,
            "_view_module": "@jupyter-widgets/base",
            "_view_module_version": "1.2.0",
            "_view_name": "StyleView",
            "description_width": ""
          }
        },
        "fcf8027e495249ffbd269fe557aa2047": {
          "model_module": "@jupyter-widgets/base",
          "model_name": "LayoutModel",
          "model_module_version": "1.2.0",
          "state": {
            "_model_module": "@jupyter-widgets/base",
            "_model_module_version": "1.2.0",
            "_model_name": "LayoutModel",
            "_view_count": null,
            "_view_module": "@jupyter-widgets/base",
            "_view_module_version": "1.2.0",
            "_view_name": "LayoutView",
            "align_content": null,
            "align_items": null,
            "align_self": null,
            "border": null,
            "bottom": null,
            "display": null,
            "flex": null,
            "flex_flow": null,
            "grid_area": null,
            "grid_auto_columns": null,
            "grid_auto_flow": null,
            "grid_auto_rows": null,
            "grid_column": null,
            "grid_gap": null,
            "grid_row": null,
            "grid_template_areas": null,
            "grid_template_columns": null,
            "grid_template_rows": null,
            "height": null,
            "justify_content": null,
            "justify_items": null,
            "left": null,
            "margin": null,
            "max_height": null,
            "max_width": null,
            "min_height": null,
            "min_width": null,
            "object_fit": null,
            "object_position": null,
            "order": null,
            "overflow": null,
            "overflow_x": null,
            "overflow_y": null,
            "padding": null,
            "right": null,
            "top": null,
            "visibility": null,
            "width": null
          }
        },
        "8803f7588bb34f38920a378ac9ac5f6a": {
          "model_module": "@jupyter-widgets/controls",
          "model_name": "ProgressStyleModel",
          "model_module_version": "1.5.0",
          "state": {
            "_model_module": "@jupyter-widgets/controls",
            "_model_module_version": "1.5.0",
            "_model_name": "ProgressStyleModel",
            "_view_count": null,
            "_view_module": "@jupyter-widgets/base",
            "_view_module_version": "1.2.0",
            "_view_name": "StyleView",
            "bar_color": null,
            "description_width": ""
          }
        },
        "ca3f15b6d76543d9a5df8eb69bbb2541": {
          "model_module": "@jupyter-widgets/base",
          "model_name": "LayoutModel",
          "model_module_version": "1.2.0",
          "state": {
            "_model_module": "@jupyter-widgets/base",
            "_model_module_version": "1.2.0",
            "_model_name": "LayoutModel",
            "_view_count": null,
            "_view_module": "@jupyter-widgets/base",
            "_view_module_version": "1.2.0",
            "_view_name": "LayoutView",
            "align_content": null,
            "align_items": null,
            "align_self": null,
            "border": null,
            "bottom": null,
            "display": null,
            "flex": null,
            "flex_flow": null,
            "grid_area": null,
            "grid_auto_columns": null,
            "grid_auto_flow": null,
            "grid_auto_rows": null,
            "grid_column": null,
            "grid_gap": null,
            "grid_row": null,
            "grid_template_areas": null,
            "grid_template_columns": null,
            "grid_template_rows": null,
            "height": null,
            "justify_content": null,
            "justify_items": null,
            "left": null,
            "margin": null,
            "max_height": null,
            "max_width": null,
            "min_height": null,
            "min_width": null,
            "object_fit": null,
            "object_position": null,
            "order": null,
            "overflow": null,
            "overflow_x": null,
            "overflow_y": null,
            "padding": null,
            "right": null,
            "top": null,
            "visibility": null,
            "width": null
          }
        },
        "1e9467dae7e94ccda537f7b44a6af5b8": {
          "model_module": "@jupyter-widgets/controls",
          "model_name": "DescriptionStyleModel",
          "model_module_version": "1.5.0",
          "state": {
            "_model_module": "@jupyter-widgets/controls",
            "_model_module_version": "1.5.0",
            "_model_name": "DescriptionStyleModel",
            "_view_count": null,
            "_view_module": "@jupyter-widgets/base",
            "_view_module_version": "1.2.0",
            "_view_name": "StyleView",
            "description_width": ""
          }
        }
      }
    }
  },
  "cells": [
    {
      "cell_type": "markdown",
      "source": [
        "\n",
        "<table>\n",
        "    <tr>\n",
        "        <td><img src=\"https://s3.amazonaws.com/media-p.slid.es/uploads/1485763/images/9060062/Header.png\" width=\"300\"/></td>\n",
        "        <td>&nbsp;</td>\n",
        "        <td>\n",
        "            <h1 style=\"font-size:50%;color:blue;text-align:center\">    <FONT COLOR=\"blue\">  \n",
        "            Detección de texto sensible </p> desde el LLM hacia el usuario       </FONT>         </h1>\n",
        "        </td>         \n",
        "        <td>\n",
        "            <tp><p style=\"font-size:99%;text-align:center\">  </p> ARQUITECTURA DE PROTECCIÓN DE PRIVACIDAD  </p> DE DATOS PARA MODELOS DE LENGUAJE DE GRAN TAMAÑO (LLM) USANDO CHATGPT </p></tp>\n",
        "            <tp><p style=\"font-size:115%;text-align:center\">Maestría MACC 2025</p></tp>\n",
        "            <tp><p style=\"font-size:115%;text-align:center\">Sofia Bonilla - Danna Ocampo - Daniel Lopez - Pedro Wightman</p></tp>\n",
        "        </td>\n",
        "    </tr>\n",
        "</table>\n",
        "\n"
      ],
      "metadata": {
        "id": "jixOrMOCaUpw"
      }
    },
    {
      "cell_type": "markdown",
      "source": [
        "<FONT SIZE=4 COLOR=\"green\"> Instalación de bibliotecas y herramientas necesarias"
      ],
      "metadata": {
        "id": "iWrhZQnHaTRh"
      }
    },
    {
      "cell_type": "markdown",
      "source": [
        "\n",
        "\n",
        "<FONT SIZE=2 COLOR=\"black\"> -> transformers:\n",
        "Es una biblioteca de Hugging Face que proporciona modelos preentrenados para tareas de procesamiento de lenguaje natural (NLP)\n",
        "\n",
        "<FONT SIZE=2 COLOR=\"black\"> -> openai: Esta es la biblioteca oficial de OpenAI que permite interactuar con los modelos de OpenAI, como GPT\n",
        "\n",
        "<FONT SIZE=2 COLOR=\"black\"> -> datasets: Esta blioteca es muy útil para gestionar datasets en proyectos de procesamiento de lenguaje natural (NLP)"
      ],
      "metadata": {
        "id": "JdtMBRxIauvd"
      }
    },
    {
      "cell_type": "code",
      "execution_count": null,
      "metadata": {
        "colab": {
          "base_uri": "https://localhost:8080/"
        },
        "id": "MLYhCu3Y4qMy",
        "outputId": "dbc82b5a-28a7-4124-90bd-4315099dae26"
      },
      "outputs": [
        {
          "output_type": "stream",
          "name": "stdout",
          "text": [
            "Requirement already satisfied: transformers in /usr/local/lib/python3.10/dist-packages (4.47.1)\n",
            "Requirement already satisfied: filelock in /usr/local/lib/python3.10/dist-packages (from transformers) (3.16.1)\n",
            "Requirement already satisfied: huggingface-hub<1.0,>=0.24.0 in /usr/local/lib/python3.10/dist-packages (from transformers) (0.27.1)\n",
            "Requirement already satisfied: numpy>=1.17 in /usr/local/lib/python3.10/dist-packages (from transformers) (1.26.4)\n",
            "Requirement already satisfied: packaging>=20.0 in /usr/local/lib/python3.10/dist-packages (from transformers) (24.2)\n",
            "Requirement already satisfied: pyyaml>=5.1 in /usr/local/lib/python3.10/dist-packages (from transformers) (6.0.2)\n",
            "Requirement already satisfied: regex!=2019.12.17 in /usr/local/lib/python3.10/dist-packages (from transformers) (2024.11.6)\n",
            "Requirement already satisfied: requests in /usr/local/lib/python3.10/dist-packages (from transformers) (2.32.3)\n",
            "Requirement already satisfied: tokenizers<0.22,>=0.21 in /usr/local/lib/python3.10/dist-packages (from transformers) (0.21.0)\n",
            "Requirement already satisfied: safetensors>=0.4.1 in /usr/local/lib/python3.10/dist-packages (from transformers) (0.5.0)\n",
            "Requirement already satisfied: tqdm>=4.27 in /usr/local/lib/python3.10/dist-packages (from transformers) (4.67.1)\n",
            "Requirement already satisfied: fsspec>=2023.5.0 in /usr/local/lib/python3.10/dist-packages (from huggingface-hub<1.0,>=0.24.0->transformers) (2024.10.0)\n",
            "Requirement already satisfied: typing-extensions>=3.7.4.3 in /usr/local/lib/python3.10/dist-packages (from huggingface-hub<1.0,>=0.24.0->transformers) (4.12.2)\n",
            "Requirement already satisfied: charset-normalizer<4,>=2 in /usr/local/lib/python3.10/dist-packages (from requests->transformers) (3.4.1)\n",
            "Requirement already satisfied: idna<4,>=2.5 in /usr/local/lib/python3.10/dist-packages (from requests->transformers) (3.10)\n",
            "Requirement already satisfied: urllib3<3,>=1.21.1 in /usr/local/lib/python3.10/dist-packages (from requests->transformers) (2.3.0)\n",
            "Requirement already satisfied: certifi>=2017.4.17 in /usr/local/lib/python3.10/dist-packages (from requests->transformers) (2024.12.14)\n",
            "Requirement already satisfied: openai in /usr/local/lib/python3.10/dist-packages (1.59.3)\n",
            "Requirement already satisfied: anyio<5,>=3.5.0 in /usr/local/lib/python3.10/dist-packages (from openai) (3.7.1)\n",
            "Requirement already satisfied: distro<2,>=1.7.0 in /usr/local/lib/python3.10/dist-packages (from openai) (1.9.0)\n",
            "Requirement already satisfied: httpx<1,>=0.23.0 in /usr/local/lib/python3.10/dist-packages (from openai) (0.28.1)\n",
            "Requirement already satisfied: jiter<1,>=0.4.0 in /usr/local/lib/python3.10/dist-packages (from openai) (0.8.2)\n",
            "Requirement already satisfied: pydantic<3,>=1.9.0 in /usr/local/lib/python3.10/dist-packages (from openai) (2.10.4)\n",
            "Requirement already satisfied: sniffio in /usr/local/lib/python3.10/dist-packages (from openai) (1.3.1)\n",
            "Requirement already satisfied: tqdm>4 in /usr/local/lib/python3.10/dist-packages (from openai) (4.67.1)\n",
            "Requirement already satisfied: typing-extensions<5,>=4.11 in /usr/local/lib/python3.10/dist-packages (from openai) (4.12.2)\n",
            "Requirement already satisfied: idna>=2.8 in /usr/local/lib/python3.10/dist-packages (from anyio<5,>=3.5.0->openai) (3.10)\n",
            "Requirement already satisfied: exceptiongroup in /usr/local/lib/python3.10/dist-packages (from anyio<5,>=3.5.0->openai) (1.2.2)\n",
            "Requirement already satisfied: certifi in /usr/local/lib/python3.10/dist-packages (from httpx<1,>=0.23.0->openai) (2024.12.14)\n",
            "Requirement already satisfied: httpcore==1.* in /usr/local/lib/python3.10/dist-packages (from httpx<1,>=0.23.0->openai) (1.0.7)\n",
            "Requirement already satisfied: h11<0.15,>=0.13 in /usr/local/lib/python3.10/dist-packages (from httpcore==1.*->httpx<1,>=0.23.0->openai) (0.14.0)\n",
            "Requirement already satisfied: annotated-types>=0.6.0 in /usr/local/lib/python3.10/dist-packages (from pydantic<3,>=1.9.0->openai) (0.7.0)\n",
            "Requirement already satisfied: pydantic-core==2.27.2 in /usr/local/lib/python3.10/dist-packages (from pydantic<3,>=1.9.0->openai) (2.27.2)\n",
            "Collecting openai==0.28\n",
            "  Downloading openai-0.28.0-py3-none-any.whl.metadata (13 kB)\n",
            "Requirement already satisfied: requests>=2.20 in /usr/local/lib/python3.10/dist-packages (from openai==0.28) (2.32.3)\n",
            "Requirement already satisfied: tqdm in /usr/local/lib/python3.10/dist-packages (from openai==0.28) (4.67.1)\n",
            "Requirement already satisfied: aiohttp in /usr/local/lib/python3.10/dist-packages (from openai==0.28) (3.11.11)\n",
            "Requirement already satisfied: charset-normalizer<4,>=2 in /usr/local/lib/python3.10/dist-packages (from requests>=2.20->openai==0.28) (3.4.1)\n",
            "Requirement already satisfied: idna<4,>=2.5 in /usr/local/lib/python3.10/dist-packages (from requests>=2.20->openai==0.28) (3.10)\n",
            "Requirement already satisfied: urllib3<3,>=1.21.1 in /usr/local/lib/python3.10/dist-packages (from requests>=2.20->openai==0.28) (2.3.0)\n",
            "Requirement already satisfied: certifi>=2017.4.17 in /usr/local/lib/python3.10/dist-packages (from requests>=2.20->openai==0.28) (2024.12.14)\n",
            "Requirement already satisfied: aiohappyeyeballs>=2.3.0 in /usr/local/lib/python3.10/dist-packages (from aiohttp->openai==0.28) (2.4.4)\n",
            "Requirement already satisfied: aiosignal>=1.1.2 in /usr/local/lib/python3.10/dist-packages (from aiohttp->openai==0.28) (1.3.2)\n",
            "Requirement already satisfied: async-timeout<6.0,>=4.0 in /usr/local/lib/python3.10/dist-packages (from aiohttp->openai==0.28) (4.0.3)\n",
            "Requirement already satisfied: attrs>=17.3.0 in /usr/local/lib/python3.10/dist-packages (from aiohttp->openai==0.28) (24.3.0)\n",
            "Requirement already satisfied: frozenlist>=1.1.1 in /usr/local/lib/python3.10/dist-packages (from aiohttp->openai==0.28) (1.5.0)\n",
            "Requirement already satisfied: multidict<7.0,>=4.5 in /usr/local/lib/python3.10/dist-packages (from aiohttp->openai==0.28) (6.1.0)\n",
            "Requirement already satisfied: propcache>=0.2.0 in /usr/local/lib/python3.10/dist-packages (from aiohttp->openai==0.28) (0.2.1)\n",
            "Requirement already satisfied: yarl<2.0,>=1.17.0 in /usr/local/lib/python3.10/dist-packages (from aiohttp->openai==0.28) (1.18.3)\n",
            "Requirement already satisfied: typing-extensions>=4.1.0 in /usr/local/lib/python3.10/dist-packages (from multidict<7.0,>=4.5->aiohttp->openai==0.28) (4.12.2)\n",
            "Downloading openai-0.28.0-py3-none-any.whl (76 kB)\n",
            "\u001b[2K   \u001b[90m━━━━━━━━━━━━━━━━━━━━━━━━━━━━━━━━━━━━━━━━\u001b[0m \u001b[32m76.5/76.5 kB\u001b[0m \u001b[31m5.2 MB/s\u001b[0m eta \u001b[36m0:00:00\u001b[0m\n",
            "\u001b[?25hInstalling collected packages: openai\n",
            "  Attempting uninstall: openai\n",
            "    Found existing installation: openai 1.59.3\n",
            "    Uninstalling openai-1.59.3:\n",
            "      Successfully uninstalled openai-1.59.3\n",
            "Successfully installed openai-0.28.0\n",
            "Collecting datasets\n",
            "  Downloading datasets-3.2.0-py3-none-any.whl.metadata (20 kB)\n",
            "Requirement already satisfied: filelock in /usr/local/lib/python3.10/dist-packages (from datasets) (3.16.1)\n",
            "Requirement already satisfied: numpy>=1.17 in /usr/local/lib/python3.10/dist-packages (from datasets) (1.26.4)\n",
            "Requirement already satisfied: pyarrow>=15.0.0 in /usr/local/lib/python3.10/dist-packages (from datasets) (17.0.0)\n",
            "Collecting dill<0.3.9,>=0.3.0 (from datasets)\n",
            "  Downloading dill-0.3.8-py3-none-any.whl.metadata (10 kB)\n",
            "Requirement already satisfied: pandas in /usr/local/lib/python3.10/dist-packages (from datasets) (2.2.2)\n",
            "Requirement already satisfied: requests>=2.32.2 in /usr/local/lib/python3.10/dist-packages (from datasets) (2.32.3)\n",
            "Requirement already satisfied: tqdm>=4.66.3 in /usr/local/lib/python3.10/dist-packages (from datasets) (4.67.1)\n",
            "Collecting xxhash (from datasets)\n",
            "  Downloading xxhash-3.5.0-cp310-cp310-manylinux_2_17_x86_64.manylinux2014_x86_64.whl.metadata (12 kB)\n",
            "Collecting multiprocess<0.70.17 (from datasets)\n",
            "  Downloading multiprocess-0.70.16-py310-none-any.whl.metadata (7.2 kB)\n",
            "Collecting fsspec<=2024.9.0,>=2023.1.0 (from fsspec[http]<=2024.9.0,>=2023.1.0->datasets)\n",
            "  Downloading fsspec-2024.9.0-py3-none-any.whl.metadata (11 kB)\n",
            "Requirement already satisfied: aiohttp in /usr/local/lib/python3.10/dist-packages (from datasets) (3.11.11)\n",
            "Requirement already satisfied: huggingface-hub>=0.23.0 in /usr/local/lib/python3.10/dist-packages (from datasets) (0.27.1)\n",
            "Requirement already satisfied: packaging in /usr/local/lib/python3.10/dist-packages (from datasets) (24.2)\n",
            "Requirement already satisfied: pyyaml>=5.1 in /usr/local/lib/python3.10/dist-packages (from datasets) (6.0.2)\n",
            "Requirement already satisfied: aiohappyeyeballs>=2.3.0 in /usr/local/lib/python3.10/dist-packages (from aiohttp->datasets) (2.4.4)\n",
            "Requirement already satisfied: aiosignal>=1.1.2 in /usr/local/lib/python3.10/dist-packages (from aiohttp->datasets) (1.3.2)\n",
            "Requirement already satisfied: async-timeout<6.0,>=4.0 in /usr/local/lib/python3.10/dist-packages (from aiohttp->datasets) (4.0.3)\n",
            "Requirement already satisfied: attrs>=17.3.0 in /usr/local/lib/python3.10/dist-packages (from aiohttp->datasets) (24.3.0)\n",
            "Requirement already satisfied: frozenlist>=1.1.1 in /usr/local/lib/python3.10/dist-packages (from aiohttp->datasets) (1.5.0)\n",
            "Requirement already satisfied: multidict<7.0,>=4.5 in /usr/local/lib/python3.10/dist-packages (from aiohttp->datasets) (6.1.0)\n",
            "Requirement already satisfied: propcache>=0.2.0 in /usr/local/lib/python3.10/dist-packages (from aiohttp->datasets) (0.2.1)\n",
            "Requirement already satisfied: yarl<2.0,>=1.17.0 in /usr/local/lib/python3.10/dist-packages (from aiohttp->datasets) (1.18.3)\n",
            "Requirement already satisfied: typing-extensions>=3.7.4.3 in /usr/local/lib/python3.10/dist-packages (from huggingface-hub>=0.23.0->datasets) (4.12.2)\n",
            "Requirement already satisfied: charset-normalizer<4,>=2 in /usr/local/lib/python3.10/dist-packages (from requests>=2.32.2->datasets) (3.4.1)\n",
            "Requirement already satisfied: idna<4,>=2.5 in /usr/local/lib/python3.10/dist-packages (from requests>=2.32.2->datasets) (3.10)\n",
            "Requirement already satisfied: urllib3<3,>=1.21.1 in /usr/local/lib/python3.10/dist-packages (from requests>=2.32.2->datasets) (2.3.0)\n",
            "Requirement already satisfied: certifi>=2017.4.17 in /usr/local/lib/python3.10/dist-packages (from requests>=2.32.2->datasets) (2024.12.14)\n",
            "Requirement already satisfied: python-dateutil>=2.8.2 in /usr/local/lib/python3.10/dist-packages (from pandas->datasets) (2.8.2)\n",
            "Requirement already satisfied: pytz>=2020.1 in /usr/local/lib/python3.10/dist-packages (from pandas->datasets) (2024.2)\n",
            "Requirement already satisfied: tzdata>=2022.7 in /usr/local/lib/python3.10/dist-packages (from pandas->datasets) (2024.2)\n",
            "Requirement already satisfied: six>=1.5 in /usr/local/lib/python3.10/dist-packages (from python-dateutil>=2.8.2->pandas->datasets) (1.17.0)\n",
            "Downloading datasets-3.2.0-py3-none-any.whl (480 kB)\n",
            "\u001b[2K   \u001b[90m━━━━━━━━━━━━━━━━━━━━━━━━━━━━━━━━━━━━━━━━\u001b[0m \u001b[32m480.6/480.6 kB\u001b[0m \u001b[31m19.8 MB/s\u001b[0m eta \u001b[36m0:00:00\u001b[0m\n",
            "\u001b[?25hDownloading dill-0.3.8-py3-none-any.whl (116 kB)\n",
            "\u001b[2K   \u001b[90m━━━━━━━━━━━━━━━━━━━━━━━━━━━━━━━━━━━━━━━━\u001b[0m \u001b[32m116.3/116.3 kB\u001b[0m \u001b[31m6.5 MB/s\u001b[0m eta \u001b[36m0:00:00\u001b[0m\n",
            "\u001b[?25hDownloading fsspec-2024.9.0-py3-none-any.whl (179 kB)\n",
            "\u001b[2K   \u001b[90m━━━━━━━━━━━━━━━━━━━━━━━━━━━━━━━━━━━━━━━━\u001b[0m \u001b[32m179.3/179.3 kB\u001b[0m \u001b[31m13.1 MB/s\u001b[0m eta \u001b[36m0:00:00\u001b[0m\n",
            "\u001b[?25hDownloading multiprocess-0.70.16-py310-none-any.whl (134 kB)\n",
            "\u001b[2K   \u001b[90m━━━━━━━━━━━━━━━━━━━━━━━━━━━━━━━━━━━━━━━━\u001b[0m \u001b[32m134.8/134.8 kB\u001b[0m \u001b[31m9.0 MB/s\u001b[0m eta \u001b[36m0:00:00\u001b[0m\n",
            "\u001b[?25hDownloading xxhash-3.5.0-cp310-cp310-manylinux_2_17_x86_64.manylinux2014_x86_64.whl (194 kB)\n",
            "\u001b[2K   \u001b[90m━━━━━━━━━━━━━━━━━━━━━━━━━━━━━━━━━━━━━━━━\u001b[0m \u001b[32m194.1/194.1 kB\u001b[0m \u001b[31m10.2 MB/s\u001b[0m eta \u001b[36m0:00:00\u001b[0m\n",
            "\u001b[?25hInstalling collected packages: xxhash, fsspec, dill, multiprocess, datasets\n",
            "  Attempting uninstall: fsspec\n",
            "    Found existing installation: fsspec 2024.10.0\n",
            "    Uninstalling fsspec-2024.10.0:\n",
            "      Successfully uninstalled fsspec-2024.10.0\n",
            "\u001b[31mERROR: pip's dependency resolver does not currently take into account all the packages that are installed. This behaviour is the source of the following dependency conflicts.\n",
            "gcsfs 2024.10.0 requires fsspec==2024.10.0, but you have fsspec 2024.9.0 which is incompatible.\u001b[0m\u001b[31m\n",
            "\u001b[0mSuccessfully installed datasets-3.2.0 dill-0.3.8 fsspec-2024.9.0 multiprocess-0.70.16 xxhash-3.5.0\n"
          ]
        }
      ],
      "source": [
        "# Instalar las librerías\n",
        "!pip install transformers\n",
        "!pip install openai\n",
        "!pip install openai==0.28\n",
        "!pip install datasets"
      ]
    },
    {
      "cell_type": "markdown",
      "source": [
        "<FONT SIZE=4 COLOR=\"green\"> Importación de bibliotecas"
      ],
      "metadata": {
        "id": "PRc7Cck0ayGb"
      }
    },
    {
      "cell_type": "code",
      "source": [
        "import openai  # Interactúa con la API de OpenAI para generar respuestas.\n",
        "import re  # Proporciona funciones para trabajar con expresiones regulares.\n",
        "import random  # Genera números y selecciones aleatorias.\n",
        "import pandas as pd  # Manejo de datos estructurados (como tablas y DataFrames).\n",
        "from sklearn.model_selection import train_test_split  # Divide datos en conjuntos de entrenamiento y prueba.\n",
        "from sklearn.metrics import classification_report, confusion_matrix, roc_curve, auc  # Métricas de evaluación de modelos.\n",
        "from sklearn.preprocessing import label_binarize  # Convierte etiquetas en formato binarizado (por ejemplo, para ROC).\n",
        "from transformers import DistilBertTokenizer, DistilBertForSequenceClassification, Trainer, TrainingArguments\n",
        "# DistilBERT: Tokenizador y modelo para clasificación de texto, y herramientas para entrenamiento.\n",
        "\n",
        "import torch  # Framework para cálculos en tensores y aprendizaje profundo.\n",
        "from datasets import Dataset  # Manejo eficiente de datasets grandes para tareas de NLP.\n",
        "import matplotlib.pyplot as plt  # Generación de gráficos y visualizaciones.\n",
        "import seaborn as sns  # Visualización de datos con gráficos estilizados (por ejemplo, mapas de calor).\n"
      ],
      "metadata": {
        "id": "CxaQyPR4a6co"
      },
      "execution_count": null,
      "outputs": []
    },
    {
      "cell_type": "markdown",
      "source": [
        "<FONT SIZE=4 COLOR=\"green\"> API Key de OPENAI"
      ],
      "metadata": {
        "id": "Mu7kr2RNbEGc"
      }
    },
    {
      "cell_type": "code",
      "source": [
        "openai.api_key = 'sk-proj-QmMFnqijmb98iKSWmcF5T3BlbkFJySuWHSxZ0wNhJcfKP0xn'"
      ],
      "metadata": {
        "id": "dHozeZRQ4ym1"
      },
      "execution_count": null,
      "outputs": []
    },
    {
      "cell_type": "markdown",
      "source": [
        "<FONT SIZE=4 COLOR=\"green\"> Carga de datos en formato csv"
      ],
      "metadata": {
        "id": "JpaunUI0bIlk"
      }
    },
    {
      "cell_type": "code",
      "source": [
        "frases_sensible = pd.read_csv(\"/content/archivo_separado_sensible.csv\")\n",
        "frases_no_sensibles = pd.read_csv(\"/content/archivo_separado_no_sensible.csv\")\n",
        "\n",
        "# Unir los datasets\n",
        "dataset_llm_usuario1 = pd.concat([frases_sensible, frases_no_sensibles], ignore_index=True)\n",
        "\n",
        "# Mostrar las columnas\n",
        "print(\"Columnas del dataset:\")\n",
        "print(dataset_llm_usuario1.columns)\n",
        "\n",
        "# Mostrar la cantidad de registros\n",
        "print(\"\\nCantidad de registros en el dataset:\", len(dataset_llm_usuario1))\n",
        "\n",
        "# Mostrar el head con los 10 primeros registros\n",
        "print(\"\\nPrimeros 10 registros:\")\n",
        "print(dataset_llm_usuario1.head(10))\n",
        "dataset_llm_usuario1.to_csv(\"dataset_llm_usuario1.csv\", index=False)\n",
        "df=dataset_llm_usuario1\n"
      ],
      "metadata": {
        "colab": {
          "base_uri": "https://localhost:8080/"
        },
        "id": "kKNjSTlK4ypW",
        "outputId": "8d22594e-c9a9-4e46-df64-9917c271ed1e"
      },
      "execution_count": null,
      "outputs": [
        {
          "output_type": "stream",
          "name": "stdout",
          "text": [
            "Columnas del dataset:\n",
            "Index(['frase', 'etiqueta'], dtype='object')\n",
            "\n",
            "Cantidad de registros en el dataset: 11520\n",
            "\n",
            "Primeros 10 registros:\n",
            "                                               frase  \\\n",
            "0  El correo electrÃ³nico de Osvaldo MariÃ±o PiÃ±...   \n",
            "1  Empleado con ID aff99236-6876-4e63-87bb-cc6105...   \n",
            "2  El correo electrÃ³nico de Matilde Cabrero Lore...   \n",
            "3  CÃ³digo de seguridad: c36ca4b2-4439-474a-9c9c-...   \n",
            "4  CÃ³digo de seguridad: 0084199a-bde3-4cd3-998d-...   \n",
            "5             NÃºmero de identificaciÃ³n 595-32-9466   \n",
            "6  El correo electrÃ³nico de Juan Gallo es avilab...   \n",
            "7  Cuenta bancaria 49174116111879512884 asociada ...   \n",
            "8         DirecciÃ³n: Via Julie Prado 13 en La Rioja   \n",
            "9  Empleado con ID 4d373c96-cc22-480f-975d-ce18fa...   \n",
            "\n",
            "                          etiqueta  \n",
            "0                                1  \n",
            "1                                1  \n",
            "2                                1  \n",
            "3                                1  \n",
            "4                                1  \n",
            "5                                1  \n",
            "6                                1  \n",
            "7                                1  \n",
            "8   San Vicente y las Granadinas,1  \n",
            "9                                1  \n"
          ]
        }
      ]
    },
    {
      "cell_type": "markdown",
      "source": [
        "<FONT SIZE=4 COLOR=\"green\"> División de datos"
      ],
      "metadata": {
        "id": "RJW5FTtqbQ-R"
      }
    },
    {
      "cell_type": "code",
      "source": [
        "# Dividir el dataset en 80% entrenamiento y 20% prueba\n",
        "X = df['frase']\n",
        "y = df['etiqueta']\n",
        "\n",
        "# Dividir en train (80%) y test (20%)\n",
        "X_train, X_test, y_train, y_test = train_test_split(X, y, test_size=0.2, random_state=42)\n",
        "\n",
        "# Crear los DataFrames de los conjuntos de entrenamiento y prueba\n",
        "train_df = pd.DataFrame({'frase': X_train, 'etiqueta': y_train})\n",
        "test_df = pd.DataFrame({'frase': X_test, 'etiqueta': y_test})\n",
        "\n",
        "# Guarda los DataFrames en archivos CSV\n",
        "train_df.to_csv('train.csv', index=False)\n",
        "test_df.to_csv('test.csv', index=False)\n",
        "\n",
        "# Mostrar los datasets\n",
        "print(\"Conjunto de entrenamiento:\")\n",
        "print(train_df.head())\n",
        "\n",
        "print(\"\\nConjunto de prueba:\")\n",
        "print(test_df.head())\n"
      ],
      "metadata": {
        "colab": {
          "base_uri": "https://localhost:8080/"
        },
        "id": "k0eYJ9364yrU",
        "outputId": "cfc18e93-8ec6-4c7c-d32d-f4b26369efc1"
      },
      "execution_count": null,
      "outputs": [
        {
          "output_type": "stream",
          "name": "stdout",
          "text": [
            "Conjunto de entrenamiento:\n",
            "                                                   frase etiqueta\n",
            "11473  Sandra es muy buena en su trabajo y siempre bu...        0\n",
            "782    Cuenta bancaria 68735012499737871613 asociada ...        1\n",
            "4080              Clave de acceso temporal: 0M9)_Gcrw^vR        1\n",
            "1156   Tarjeta de crÃ©dito 6504242788142822 a nombre ...        1\n",
            "1536              NÃºmero de identificaciÃ³n 658-00-0960        1\n",
            "\n",
            "Conjunto de prueba:\n",
            "                                                   frase etiqueta\n",
            "1078              Clave de acceso temporal: !5iqYCjl9s+U        1\n",
            "9315                        El rÃ­o brilla intensamente.        0\n",
            "3299              Clave de acceso temporal: ((&YHaQ(zN6T        1\n",
            "7894                           Miro las luz en el cielo.        0\n",
            "11037  El aprendizaje es un proceso que continÃºa tod...        0\n"
          ]
        }
      ]
    },
    {
      "cell_type": "markdown",
      "source": [
        "<FONT SIZE=4 COLOR=\"green\"> Tokenización, configuración y entrenamiento del modelo."
      ],
      "metadata": {
        "id": "IhY_kynNbVLO"
      }
    },
    {
      "cell_type": "markdown",
      "source": [
        "*  DistilBertTokenizer: Es una clase de Hugging Face que convierte texto en una secuencia de tokens (números) que el modelo DistilBERT puede procesar.\n",
        "*  from_pretrained('distilbert-base-uncased'): Carga el tokenizador asociado al modelo preentrenado distilbert-base-uncased.\n",
        "*  distilbert-base-uncased: Significa que el texto de entrada se convertirá todo a minúsculas y no distinguirá entre mayúsculas y minúsculas.\n"
      ],
      "metadata": {
        "id": "mxbQxomBbXQg"
      }
    },
    {
      "cell_type": "code",
      "source": [
        "# Preparar el tokenizador y el modelo de DistilBERT\n",
        "tokenizer = DistilBertTokenizer.from_pretrained('distilbert-base-uncased')\n",
        "model = DistilBertForSequenceClassification.from_pretrained('distilbert-base-uncased', num_labels=2)\n",
        "\n",
        "# Tokenización de los conjuntos de entrenamiento y prueba\n",
        "train_encodings = tokenizer(train_df['frase'].tolist(), truncation=True, padding=True, max_length=128)\n",
        "test_encodings = tokenizer(test_df['frase'].tolist(), truncation=True, padding=True, max_length=128)\n",
        "\n",
        "train_df['etiqueta'] = pd.to_numeric(train_df['etiqueta'], errors='coerce').fillna(0).astype('int64')\n",
        "test_df['etiqueta'] = pd.to_numeric(test_df['etiqueta'], errors='coerce').fillna(0).astype('int64')\n",
        "\n",
        "\n",
        "\n",
        "train_labels = torch.tensor(train_df['etiqueta'].values)\n",
        "test_labels = torch.tensor(test_df['etiqueta'].values)\n",
        "\n",
        "\n",
        "# Crear datasets para el modelo de Hugging Face\n",
        "train_dataset = Dataset.from_dict({'input_ids': train_encodings['input_ids'],\n",
        "                                   'attention_mask': train_encodings['attention_mask'],\n",
        "                                   'labels': train_labels})\n",
        "\n",
        "test_dataset = Dataset.from_dict({'input_ids': test_encodings['input_ids'],\n",
        "                                  'attention_mask': test_encodings['attention_mask'],\n",
        "                                  'labels': test_labels})\n",
        "\n",
        "# Definir los argumentos de entrenamiento\n",
        "training_args = TrainingArguments(\n",
        "    output_dir='./results',\n",
        "    num_train_epochs=5,\n",
        "    per_device_train_batch_size=8,\n",
        "    per_device_eval_batch_size=8,\n",
        "    warmup_steps=500,\n",
        "    weight_decay=0.01,\n",
        "    logging_dir='./logs',\n",
        "    evaluation_strategy=\"epoch\"\n",
        ")\n",
        "\n",
        "# Configurar el entrenador\n",
        "trainer = Trainer(\n",
        "    model=model,\n",
        "    args=training_args,\n",
        "    train_dataset=train_dataset,\n",
        "    eval_dataset=test_dataset\n",
        ")\n",
        "\n",
        "# Entrenar el modelo\n",
        "trainer.train()"
      ],
      "metadata": {
        "colab": {
          "base_uri": "https://localhost:8080/",
          "height": 828,
          "referenced_widgets": [
            "dfb2ad38850c46bdb23aa1027a2e3517",
            "1bb465966ac74f8f99e074791588967d",
            "5a9f92049aa94650bc1bf7b84e318794",
            "7a2ab5421475481db6992ece382ba67b",
            "d27bdef4ea9c47f8b9c8c958d9a85535",
            "25acb6f96ae1437a83b26020d33cae2b",
            "0cddaba094f34a4ea2ed050454462870",
            "af45e5fba0ca4782b8580ad02a43c6a0",
            "d634eace6cc540f9a1fd0b255fe24196",
            "25aa0753f435436ba1acfdf60228dd69",
            "f150cdeb623843979c0c0e479070f9f0",
            "129b07a56a4c49638b8d7623fb871a57",
            "f86feac38191462eafac225a7ef00315",
            "9e1f5381ea9a49c394a38882cdd90bc8",
            "96c1a97cb3f84157a432e81578ac3c40",
            "6908fb4332a240438ce542e494400993",
            "e28ee42c89734a09b78feb70eecef921",
            "80a49c4839af4677aa496a5c16598bc3",
            "5a340dfb45f7430e973396790023e3b4",
            "a77b0d5b472d43968461d1e0eb4e2e3f",
            "b352cb074f73465cb8e5f58da46a7e41",
            "0bc6c5a844f44b9aa6bf10987b7d20b7",
            "c23b566a782a4bcf8aab84d5d16ddb9f",
            "f575727864294d169cb247174be2d093",
            "19d5cbf44ce547b8a8014be57131be14",
            "7dd94993582545db80cea9461d146c1c",
            "09a35ebe59f94e79ad5601d12a0497b2",
            "bb82a548896744efa6b28849e5891e66",
            "5cc67bf24598457eafdc8f7390e2d7c6",
            "0655e78a56024834bf5f9212d5cbfe58",
            "7c9e8a4bce7c4ee5a015191eb0466816",
            "b681ac38d5c34505a264d5fa0944c287",
            "54e62f1729c24495b2a697606bfa293e",
            "a0171c06b31d4d91bb6d5bb546fdd241",
            "a56368077cca49069c634ef886a9de87",
            "0f5f46c141094f8cb6a299f647b4d67c",
            "0ccbee1e379640298be0a3402c2d7c30",
            "4439f2a8200e4e95aafe5899bfc5d607",
            "17d541c67c994651a1ddb06b0734d9fc",
            "b39823bfa52e4375995180fa250f5be1",
            "7316a1d0f8b542d491e0b850b8ee8eee",
            "3b904bd4018f4a369ba73fe95e6fc491",
            "30aee45f72654a40acf0041cefcb32de",
            "3044b67e2d204c4b984eae896cf1e27e",
            "e874b5a92be247428fa78c00b900d1fa",
            "5e882ebb2dbb461c9cd31dd043d51393",
            "9d119e8ca98443e28da7a72b8ba378b8",
            "44cdb4efcdc0462ab71d4f23d1404ec3",
            "379e3d0b502448b7971d5bd1e24ed3ca",
            "991bbf03ab754e11926314728422a2f8",
            "5f9fdcf9b8c1449fa397817e82d6cfc1",
            "fcf8027e495249ffbd269fe557aa2047",
            "8803f7588bb34f38920a378ac9ac5f6a",
            "ca3f15b6d76543d9a5df8eb69bbb2541",
            "1e9467dae7e94ccda537f7b44a6af5b8"
          ]
        },
        "id": "RxuqBlqf4ytW",
        "outputId": "7c0b4f20-ee51-42ee-9362-014da9be547a"
      },
      "execution_count": null,
      "outputs": [
        {
          "output_type": "stream",
          "name": "stderr",
          "text": [
            "/usr/local/lib/python3.10/dist-packages/huggingface_hub/utils/_auth.py:94: UserWarning: \n",
            "The secret `HF_TOKEN` does not exist in your Colab secrets.\n",
            "To authenticate with the Hugging Face Hub, create a token in your settings tab (https://huggingface.co/settings/tokens), set it as secret in your Google Colab and restart your session.\n",
            "You will be able to reuse this secret in all of your notebooks.\n",
            "Please note that authentication is recommended but still optional to access public models or datasets.\n",
            "  warnings.warn(\n"
          ]
        },
        {
          "output_type": "display_data",
          "data": {
            "text/plain": [
              "tokenizer_config.json:   0%|          | 0.00/48.0 [00:00<?, ?B/s]"
            ],
            "application/vnd.jupyter.widget-view+json": {
              "version_major": 2,
              "version_minor": 0,
              "model_id": "dfb2ad38850c46bdb23aa1027a2e3517"
            }
          },
          "metadata": {}
        },
        {
          "output_type": "display_data",
          "data": {
            "text/plain": [
              "vocab.txt:   0%|          | 0.00/232k [00:00<?, ?B/s]"
            ],
            "application/vnd.jupyter.widget-view+json": {
              "version_major": 2,
              "version_minor": 0,
              "model_id": "129b07a56a4c49638b8d7623fb871a57"
            }
          },
          "metadata": {}
        },
        {
          "output_type": "display_data",
          "data": {
            "text/plain": [
              "tokenizer.json:   0%|          | 0.00/466k [00:00<?, ?B/s]"
            ],
            "application/vnd.jupyter.widget-view+json": {
              "version_major": 2,
              "version_minor": 0,
              "model_id": "c23b566a782a4bcf8aab84d5d16ddb9f"
            }
          },
          "metadata": {}
        },
        {
          "output_type": "display_data",
          "data": {
            "text/plain": [
              "config.json:   0%|          | 0.00/483 [00:00<?, ?B/s]"
            ],
            "application/vnd.jupyter.widget-view+json": {
              "version_major": 2,
              "version_minor": 0,
              "model_id": "a0171c06b31d4d91bb6d5bb546fdd241"
            }
          },
          "metadata": {}
        },
        {
          "output_type": "display_data",
          "data": {
            "text/plain": [
              "model.safetensors:   0%|          | 0.00/268M [00:00<?, ?B/s]"
            ],
            "application/vnd.jupyter.widget-view+json": {
              "version_major": 2,
              "version_minor": 0,
              "model_id": "e874b5a92be247428fa78c00b900d1fa"
            }
          },
          "metadata": {}
        },
        {
          "output_type": "stream",
          "name": "stderr",
          "text": [
            "Some weights of DistilBertForSequenceClassification were not initialized from the model checkpoint at distilbert-base-uncased and are newly initialized: ['classifier.bias', 'classifier.weight', 'pre_classifier.bias', 'pre_classifier.weight']\n",
            "You should probably TRAIN this model on a down-stream task to be able to use it for predictions and inference.\n",
            "/usr/local/lib/python3.10/dist-packages/transformers/training_args.py:1575: FutureWarning: `evaluation_strategy` is deprecated and will be removed in version 4.46 of 🤗 Transformers. Use `eval_strategy` instead\n",
            "  warnings.warn(\n",
            "\u001b[34m\u001b[1mwandb\u001b[0m: \u001b[33mWARNING\u001b[0m The `run_name` is currently set to the same value as `TrainingArguments.output_dir`. If this was not intended, please specify a different run name by setting the `TrainingArguments.run_name` parameter.\n",
            "\u001b[34m\u001b[1mwandb\u001b[0m: Using wandb-core as the SDK backend.  Please refer to https://wandb.me/wandb-core for more information.\n"
          ]
        },
        {
          "output_type": "display_data",
          "data": {
            "text/plain": [
              "<IPython.core.display.Javascript object>"
            ],
            "application/javascript": [
              "\n",
              "        window._wandbApiKey = new Promise((resolve, reject) => {\n",
              "            function loadScript(url) {\n",
              "            return new Promise(function(resolve, reject) {\n",
              "                let newScript = document.createElement(\"script\");\n",
              "                newScript.onerror = reject;\n",
              "                newScript.onload = resolve;\n",
              "                document.body.appendChild(newScript);\n",
              "                newScript.src = url;\n",
              "            });\n",
              "            }\n",
              "            loadScript(\"https://cdn.jsdelivr.net/npm/postmate/build/postmate.min.js\").then(() => {\n",
              "            const iframe = document.createElement('iframe')\n",
              "            iframe.style.cssText = \"width:0;height:0;border:none\"\n",
              "            document.body.appendChild(iframe)\n",
              "            const handshake = new Postmate({\n",
              "                container: iframe,\n",
              "                url: 'https://wandb.ai/authorize'\n",
              "            });\n",
              "            const timeout = setTimeout(() => reject(\"Couldn't auto authenticate\"), 5000)\n",
              "            handshake.then(function(child) {\n",
              "                child.on('authorize', data => {\n",
              "                    clearTimeout(timeout)\n",
              "                    resolve(data)\n",
              "                });\n",
              "            });\n",
              "            })\n",
              "        });\n",
              "    "
            ]
          },
          "metadata": {}
        },
        {
          "output_type": "stream",
          "name": "stderr",
          "text": [
            "\u001b[34m\u001b[1mwandb\u001b[0m: Logging into wandb.ai. (Learn how to deploy a W&B server locally: https://wandb.me/wandb-server)\n",
            "\u001b[34m\u001b[1mwandb\u001b[0m: You can find your API key in your browser here: https://wandb.ai/authorize\n",
            "wandb: Paste an API key from your profile and hit enter, or press ctrl+c to quit:"
          ]
        },
        {
          "name": "stdout",
          "output_type": "stream",
          "text": [
            " ··········\n"
          ]
        },
        {
          "output_type": "stream",
          "name": "stderr",
          "text": [
            "\u001b[34m\u001b[1mwandb\u001b[0m: Appending key for api.wandb.ai to your netrc file: /root/.netrc\n"
          ]
        },
        {
          "output_type": "display_data",
          "data": {
            "text/plain": [
              "<IPython.core.display.HTML object>"
            ],
            "text/html": [
              "Tracking run with wandb version 0.19.1"
            ]
          },
          "metadata": {}
        },
        {
          "output_type": "display_data",
          "data": {
            "text/plain": [
              "<IPython.core.display.HTML object>"
            ],
            "text/html": [
              "Run data is saved locally in <code>/content/wandb/run-20250109_194633-jf88h51y</code>"
            ]
          },
          "metadata": {}
        },
        {
          "output_type": "display_data",
          "data": {
            "text/plain": [
              "<IPython.core.display.HTML object>"
            ],
            "text/html": [
              "Syncing run <strong><a href='https://wandb.ai/sofia-06-bonilla-universidad-del-rosario/huggingface/runs/jf88h51y' target=\"_blank\">./results</a></strong> to <a href='https://wandb.ai/sofia-06-bonilla-universidad-del-rosario/huggingface' target=\"_blank\">Weights & Biases</a> (<a href='https://wandb.me/developer-guide' target=\"_blank\">docs</a>)<br>"
            ]
          },
          "metadata": {}
        },
        {
          "output_type": "display_data",
          "data": {
            "text/plain": [
              "<IPython.core.display.HTML object>"
            ],
            "text/html": [
              " View project at <a href='https://wandb.ai/sofia-06-bonilla-universidad-del-rosario/huggingface' target=\"_blank\">https://wandb.ai/sofia-06-bonilla-universidad-del-rosario/huggingface</a>"
            ]
          },
          "metadata": {}
        },
        {
          "output_type": "display_data",
          "data": {
            "text/plain": [
              "<IPython.core.display.HTML object>"
            ],
            "text/html": [
              " View run at <a href='https://wandb.ai/sofia-06-bonilla-universidad-del-rosario/huggingface/runs/jf88h51y' target=\"_blank\">https://wandb.ai/sofia-06-bonilla-universidad-del-rosario/huggingface/runs/jf88h51y</a>"
            ]
          },
          "metadata": {}
        },
        {
          "output_type": "display_data",
          "data": {
            "text/plain": [
              "<IPython.core.display.HTML object>"
            ],
            "text/html": [
              "\n",
              "    <div>\n",
              "      \n",
              "      <progress value='5760' max='5760' style='width:300px; height:20px; vertical-align: middle;'></progress>\n",
              "      [5760/5760 5:35:31, Epoch 5/5]\n",
              "    </div>\n",
              "    <table border=\"1\" class=\"dataframe\">\n",
              "  <thead>\n",
              " <tr style=\"text-align: left;\">\n",
              "      <th>Epoch</th>\n",
              "      <th>Training Loss</th>\n",
              "      <th>Validation Loss</th>\n",
              "    </tr>\n",
              "  </thead>\n",
              "  <tbody>\n",
              "    <tr>\n",
              "      <td>1</td>\n",
              "      <td>0.032800</td>\n",
              "      <td>0.007828</td>\n",
              "    </tr>\n",
              "    <tr>\n",
              "      <td>2</td>\n",
              "      <td>0.017800</td>\n",
              "      <td>0.006995</td>\n",
              "    </tr>\n",
              "    <tr>\n",
              "      <td>3</td>\n",
              "      <td>0.006600</td>\n",
              "      <td>0.017505</td>\n",
              "    </tr>\n",
              "    <tr>\n",
              "      <td>4</td>\n",
              "      <td>0.000000</td>\n",
              "      <td>0.012855</td>\n",
              "    </tr>\n",
              "    <tr>\n",
              "      <td>5</td>\n",
              "      <td>0.001000</td>\n",
              "      <td>0.012343</td>\n",
              "    </tr>\n",
              "  </tbody>\n",
              "</table><p>"
            ]
          },
          "metadata": {}
        },
        {
          "output_type": "execute_result",
          "data": {
            "text/plain": [
              "TrainOutput(global_step=5760, training_loss=0.02079963232261232, metrics={'train_runtime': 20156.0554, 'train_samples_per_second': 2.286, 'train_steps_per_second': 0.286, 'total_flos': 727246018621440.0, 'train_loss': 0.02079963232261232, 'epoch': 5.0})"
            ]
          },
          "metadata": {},
          "execution_count": 6
        }
      ]
    },
    {
      "cell_type": "markdown",
      "source": [
        "<FONT SIZE=4 COLOR=\"green\">Evaluación del modelo -> Métricas"
      ],
      "metadata": {
        "id": "qu5v1U6PbjM9"
      }
    },
    {
      "cell_type": "markdown",
      "source": [
        "Preprocesamiento del Dataset de Validación Tokenización de las frases en el conjunto de validación:\n",
        "\n",
        "El modelo DistilBERT no puede procesar texto directamente; necesita que las frases estén transformadas en una representación numérica. Para ello, usamos un tokenizador. Este proceso convierte cada palabra en números y agrega información adicional (como attention_mask), que ayuda al modelo a saber cuáles palabras debe prestar atención y cuáles puede ignorar (por ejemplo, relleno o \"padding\" en secuencias cortas). En el código, usamos el tokenizador para transformar el texto de frases_validation:\n",
        "\n",
        "Conversión de etiquetas en tensores de PyTorch:\n",
        "\n",
        "Los modelos de Hugging Face requieren que las etiquetas también estén en un formato específico, en este caso en un tensor de torch. Convertimos las etiquetas (1 para frases sensibles y 0 para frases no sensibles) a un tensor:"
      ],
      "metadata": {
        "id": "v3lvCIkF6yVN"
      }
    },
    {
      "cell_type": "code",
      "source": [
        "# Guardar el modelo después del entrenamiento\n",
        "trainer.save_model(\"./results\")\n",
        "# Cargar el dataset de validación\n",
        "df_validation = pd.read_csv('validacion.csv')\n",
        "\n",
        "# Verificar que 'frase' contiene texto y 'etiqueta' tiene valores numéricos\n",
        "df_validation['frase'] = df_validation['frase'].astype(str)  # Asegurarse de que las frases sean cadenas\n",
        "df_validation['etiqueta'] = df_validation['etiqueta'].astype(int)  # Asegurarse de que las etiquetas sean enteros\n",
        "\n",
        "# Cargar el tokenizador y el modelo previamente entrenado\n",
        "tokenizer = DistilBertTokenizer.from_pretrained('distilbert-base-uncased')\n",
        "model = DistilBertForSequenceClassification.from_pretrained('./results')  # Ruta donde guardaste el modelo entrenado\n",
        "\n",
        "# Preprocesar el conjunto de validación\n",
        "validation_encodings = tokenizer(df_validation['frase'].tolist(), truncation=True, padding=True, max_length=128)\n",
        "\n",
        "# Convertir las etiquetas a tensores de torch\n",
        "validation_labels = torch.tensor(df_validation['etiqueta'].values)\n",
        "\n",
        "# Crear el dataset de validación para Hugging Face\n",
        "validation_dataset = Dataset.from_dict({\n",
        "    'input_ids': validation_encodings['input_ids'],\n",
        "    'attention_mask': validation_encodings['attention_mask'],\n",
        "    'labels': validation_labels\n",
        "})\n",
        "\n",
        "# Configurar el Trainer solo para evaluación\n",
        "trainer = Trainer(model=model)\n",
        "\n",
        "# Evaluar en el conjunto de validación\n",
        "predictions = trainer.predict(validation_dataset)\n",
        "predicted_labels = predictions.predictions.argmax(axis=1)  # Obtener las etiquetas predichas\n",
        "\n",
        "# Generar y mostrar el informe de clasificación\n",
        "print(\"Informe de clasificación en el conjunto de validación:\")\n",
        "print(classification_report(validation_labels, predicted_labels))\n"
      ],
      "metadata": {
        "colab": {
          "base_uri": "https://localhost:8080/",
          "height": 190
        },
        "id": "VafoVWJE4ywW",
        "outputId": "ffb734a7-06aa-44d4-eb9b-70916577e44a"
      },
      "execution_count": null,
      "outputs": [
        {
          "output_type": "display_data",
          "data": {
            "text/plain": [
              "<IPython.core.display.HTML object>"
            ],
            "text/html": []
          },
          "metadata": {}
        },
        {
          "output_type": "stream",
          "name": "stdout",
          "text": [
            "Informe de clasificación en el conjunto de validación:\n",
            "              precision    recall  f1-score   support\n",
            "\n",
            "           0       0.84      0.99      0.91       493\n",
            "           1       0.99      0.81      0.89       493\n",
            "\n",
            "    accuracy                           0.90       986\n",
            "   macro avg       0.91      0.90      0.90       986\n",
            "weighted avg       0.91      0.90      0.90       986\n",
            "\n"
          ]
        }
      ]
    },
    {
      "cell_type": "markdown",
      "source": [
        "<FONT SIZE=4 COLOR=\"green\">Evaluación del modelo -> Gráficas"
      ],
      "metadata": {
        "id": "BO6LZin_cEEO"
      }
    },
    {
      "cell_type": "code",
      "source": [
        "# Matriz de Confusión\n",
        "conf_matrix = confusion_matrix(validation_labels, predicted_labels)\n",
        "\n",
        "# Visualizar la matriz de confusión\n",
        "plt.figure(figsize=(8, 6))\n",
        "sns.heatmap(conf_matrix, annot=True, fmt='d', cmap='Blues', xticklabels=['Clase 0', 'Clase 1'], yticklabels=['Clase 0', 'Clase 1'])\n",
        "plt.title('Matriz de Confusión')\n",
        "plt.xlabel('Predicción')\n",
        "plt.ylabel('Real')\n",
        "plt.show()\n",
        "\n",
        "# Curva ROC y AUC (Área Bajo la Curva)\n",
        "# Binarizamos las etiquetas (esto es necesario para la curva ROC en tareas de clasificación binaria)\n",
        "validation_labels_bin = label_binarize(validation_labels, classes=[0, 1])\n",
        "\n",
        "# Calcular las probabilidades de predicción de cada clase\n",
        "predicted_probs = predictions.predictions[:, 1]  # Probabilidades de la clase positiva (1)\n",
        "\n",
        "# Calcular la curva ROC\n",
        "fpr, tpr, thresholds = roc_curve(validation_labels_bin, predicted_probs)\n",
        "roc_auc = auc(fpr, tpr)\n",
        "\n",
        "# Graficar la curva ROC\n",
        "plt.figure(figsize=(8, 6))\n",
        "plt.plot(fpr, tpr, color='blue', lw=2, label=f'Curva ROC (AUC = {roc_auc:.2f})')\n",
        "plt.plot([0, 1], [0, 1], color='gray', linestyle='--')\n",
        "plt.title('Curva ROC')\n",
        "plt.xlabel('Tasa de Falsos Positivos')\n",
        "plt.ylabel('Tasa de Verdaderos Positivos')\n",
        "plt.legend(loc='lower right')\n",
        "plt.show()"
      ],
      "metadata": {
        "colab": {
          "base_uri": "https://localhost:8080/",
          "height": 1000
        },
        "id": "Uh9aZS3a4y0F",
        "outputId": "45fd3579-6de1-4977-98ba-059cd4d34dba"
      },
      "execution_count": null,
      "outputs": [
        {
          "output_type": "display_data",
          "data": {
            "text/plain": [
              "<Figure size 800x600 with 2 Axes>"
            ],
            "image/png": "[encoded data removed]"
          },
          "metadata": {}
        },
        {
          "output_type": "display_data",
          "data": {
            "text/plain": [
              "<Figure size 800x600 with 1 Axes>"
            ],
            "image/png": "[encoded data removed]"
          },
          "metadata": {}
        }
      ]
    },
    {
      "cell_type": "markdown",
      "source": [
        "<FONT SIZE=4 COLOR=\"green\"> Función de detección para patrones especificos"
      ],
      "metadata": {
        "id": "Z2Nhtm4HcJ5l"
      }
    },
    {
      "cell_type": "markdown",
      "source": [
        "La función detect_sensitive_info(text) busca patrones específicos en un texto para identificar información sensible, como correos electrónicos, números de tarjetas de crédito, teléfonos, identificaciones, direcciones, fechas de nacimiento, datos médicos o bancarios. Utiliza expresiones regulares (re.search) para detectar cada uno de estos patrones y devuelve True si encuentra algún dato sensible; de lo contrario, retorna False."
      ],
      "metadata": {
        "id": "y4JEojedcL0h"
      }
    },
    {
      "cell_type": "markdown",
      "source": [
        "<FONT SIZE=4 COLOR=\"green\"> Función de ofuscación"
      ],
      "metadata": {
        "id": "frhhxoX9cPuF"
      }
    },
    {
      "cell_type": "markdown",
      "source": [
        "La función obfuscate(text) está diseñada para ofuscar (es decir, ocultar parcialmente) información sensible dentro de un texto, mientras se mantiene visible una parte relevante de los datos. Esto se logra mediante el uso de expresiones regulares para encontrar patrones específicos."
      ],
      "metadata": {
        "id": "pQaVbiBocP7G"
      }
    },
    {
      "cell_type": "code",
      "source": [
        "# Funciones de detección y ofuscación\n",
        "def detect_sensitive_info(text):\n",
        "    email_pattern = r'\\b\\w+@\\w+\\.\\w+\\b'\n",
        "    if re.search(email_pattern, text):\n",
        "        return True\n",
        "    credit_card_pattern = r'\\b\\d{4}[- ]?\\d{4}[- ]?\\d{4}[- ]?\\d{4}\\b'\n",
        "    if re.search(credit_card_pattern, text):\n",
        "        return True\n",
        "    phone_pattern = r'\\b\\d{1,3}[- ]?\\d{1,3}[- ]?\\d{1,4}\\b'\n",
        "    if re.search(phone_pattern, text):\n",
        "        return True\n",
        "    id_pattern = r'\\b\\d{8,9}\\b'\n",
        "    if re.search(id_pattern, text):\n",
        "        return True\n",
        "    address_pattern = r'\\b\\d+\\s\\w+\\s\\w+\\b'\n",
        "    if re.search(address_pattern, text):\n",
        "        return True\n",
        "    dob_pattern = r'\\b\\d{1,2}[/-]\\d{1,2}[/-]\\d{2,4}\\b'\n",
        "    if re.search(dob_pattern, text):\n",
        "        return True\n",
        "    medical_record_pattern = r'\\b\\d{10,12}\\b'\n",
        "    if re.search(medical_record_pattern, text):\n",
        "        return True\n",
        "    bank_account_pattern = r'\\b\\d{10,12}\\b'\n",
        "    if re.search(bank_account_pattern, text):\n",
        "        return True\n",
        "    return False\n",
        "\n",
        "\n",
        "\n",
        "def obfuscate(text):\n",
        "    # Ofuscar números de tarjetas de crédito\n",
        "    text = re.sub(r'\\b(\\d{4})([- ]?\\d{4}){3}\\b', lambda m: f\"{m.group(1)}-****-****-{m.group(0)[-4:]}\", text)\n",
        "    # Ofuscar números de teléfono\n",
        "    text = re.sub(r'\\b(\\d{1,3})[- ]?(\\d{1,3})[- ]?(\\d{1,4})\\b', lambda m: f\"****-****-{m.group(3)}\", text)\n",
        "    # Ofuscar correos electrónicos\n",
        "    text = re.sub(r'(\\w)(\\w+?)(@\\w+\\.\\w+)', lambda m: f\"{m.group(1)}{'*' * len(m.group(2))}{m.group(3)}\", text)\n",
        "    # Ofuscar contraseñas\n",
        "    text = re.sub(r'\\b(?:contraseña|clave):?\\s*(\\w{6,})\\b', lambda m: f\"{m.group(0).split(':')[0]}: {obfuscate_password(m.group(1))}\", text)\n",
        "    # Ofuscar números genéricos\n",
        "    text = re.sub(r'\\b(?!número)(\\d+)\\b', lambda m: obfuscate_number(m.group(0)), text)\n",
        "\n",
        "    # Permutar nombres (puedes ajustar este patrón para otros datos sensibles)\n",
        "    text = re.sub(r'\\b([A-Z][a-z]+(?:\\s[A-Z][a-z]+)*)\\b', lambda m: permute(m.group(0)), text)\n",
        "    return text\n",
        "\n",
        "def obfuscate_password(password):\n",
        "    length = len(password)\n",
        "    if length <= 2:\n",
        "        return password\n",
        "    keep_count = max(1, length // 5)\n",
        "    obfuscated = '*' * (length - keep_count) + password[-keep_count:]\n",
        "    return obfuscated\n",
        "\n",
        "def obfuscate_number(number):\n",
        "    length = len(number)\n",
        "    if length <= 2:\n",
        "        return number\n",
        "    keep_count = max(1, length // 5)\n",
        "    obfuscated = '*' * (length - keep_count) + number[-keep_count:]\n",
        "    return obfuscated\n",
        "\n",
        "def permute(text):\n",
        "    words = text.split()\n",
        "    permuted_words = []\n",
        "    for word in words:\n",
        "        if len(word) > 3:  # Solo permutar palabras largas\n",
        "            word = list(word)\n",
        "            random.shuffle(word)\n",
        "            permuted_word = ''.join(word)\n",
        "            permuted_words.append(permuted_word)\n",
        "        else:\n",
        "            permuted_words.append(word)\n",
        "    return ' '.join(permuted_words)\n",
        "\n",
        "# Ejemplo de uso\n",
        "text = \"Mi nombre es Juan Pérez y mi correo es juan.perez@example.com\"\n",
        "obfuscated_text = obfuscate(text)\n",
        "print(obfuscated_text)"
      ],
      "metadata": {
        "colab": {
          "base_uri": "https://localhost:8080/"
        },
        "id": "FO1WzKYl4y3X",
        "outputId": "cc8724c5-a420-4de6-801d-7f36ac50a78f"
      },
      "execution_count": null,
      "outputs": [
        {
          "output_type": "stream",
          "name": "stdout",
          "text": [
            "Mi nombre es aunJ Pérez y mi correo es juan.p****@example.com\n"
          ]
        }
      ]
    },
    {
      "cell_type": "markdown",
      "source": [
        "<FONT SIZE=4 COLOR=\"green\"> Función de predicción"
      ],
      "metadata": {
        "id": "k2XOWT95cXT6"
      }
    },
    {
      "cell_type": "code",
      "source": [
        "# Función para predecir si el texto contiene información sensible usando el modelo DistilBERT\n",
        "def predict_sensitive_info(text):\n",
        "    # Tokenizar el texto para el modelo\n",
        "    inputs = tokenizer(text, return_tensors=\"pt\", truncation=True, padding=True, max_length=128)\n",
        "    # Obtener la salida del modelo\n",
        "    with torch.no_grad():\n",
        "        outputs = model(**inputs)\n",
        "    # Obtener la predicción (0 o 1)\n",
        "    prediction = torch.argmax(outputs.logits, dim=1).item()\n",
        "    return prediction == 1  # True si el texto es sensible"
      ],
      "metadata": {
        "id": "xqs5xBxt7X4a"
      },
      "execution_count": null,
      "outputs": []
    },
    {
      "cell_type": "markdown",
      "source": [
        "#Proceso de Clasificación y Ofuscación:\n",
        "\n",
        "Una vez que tienes la respuesta de ChatGPT (chatgpt_response), el programa la clasifica usando predict_sensitive_info y detect_sensitive_info. Si DistilBERT o la función de detección de patrones encuentran información sensible, el texto se ofusca. Finalmente, el programa muestra la respuesta ofuscada si contiene información sensible y también indica si el texto original contenía información sensible según los filtros aplicados. Este flujo asegura que ambos métodos de detección (modelo de DistilBERT y patrones específicos) contribuyen a mejorar la detección y ofuscación de datos sensibles en la respuesta."
      ],
      "metadata": {
        "id": "-ouGgg9c7Z9Z"
      }
    },
    {
      "cell_type": "code",
      "source": [
        "# Proceso de interacción con el usuario\n",
        "def process_user_input():\n",
        "    while True:\n",
        "        user_input = input(\"Ingresa una solicitud de información (o escribe 'salir' para terminar): \")\n",
        "\n",
        "        if user_input.lower() == 'salir':\n",
        "            print(\"Saliendo del programa.\")\n",
        "            break\n",
        "\n",
        "        # Generar respuesta de ChatGPT\n",
        "        response = openai.ChatCompletion.create(\n",
        "            model=\"gpt-4\",\n",
        "            messages=[{\"role\": \"user\", \"content\": user_input}]\n",
        "        )\n",
        "        chatgpt_response = response['choices'][0]['message']['content']\n",
        "\n",
        "        # Usar DistilBERT para verificar si la respuesta contiene información sensible\n",
        "        is_sensitive_distilbert = predict_sensitive_info(chatgpt_response)\n",
        "\n",
        "        # Usar el filtro adicional para detectar patrones sensibles específicos\n",
        "        is_sensitive_pattern = detect_sensitive_info(chatgpt_response)\n",
        "\n",
        "        # Ofuscar la respuesta si se detecta información sensible\n",
        "        if is_sensitive_distilbert or is_sensitive_pattern:\n",
        "            obfuscated_response = obfuscate(chatgpt_response)\n",
        "        else:\n",
        "            obfuscated_response = chatgpt_response\n",
        "\n",
        "        # Mostrar la respuesta y el estado de sensibilidad\n",
        "        print(f\"Respuesta de ChatGPT: {obfuscated_response}\")\n",
        "        print(f\"¿Contiene información sensible? {'Sí' if is_sensitive_distilbert or is_sensitive_pattern else 'No'}\")\n",
        "\n",
        "# Ejecutar el proceso de entrada de usuario\n",
        "process_user_input()"
      ],
      "metadata": {
        "id": "-1eM2Mzs59M7",
        "colab": {
          "base_uri": "https://localhost:8080/"
        },
        "outputId": "8a831e74-1ca3-45da-8f32-6ac9c1859e9a"
      },
      "execution_count": null,
      "outputs": [
        {
          "output_type": "stream",
          "name": "stdout",
          "text": [
            "Ingresa una solicitud de información (o escribe 'salir' para terminar): Necesito una frase que contenga un teléfono de contacto para una persona llamada Juan López.\n",
            "Respuesta de ChatGPT: arPa cualquier consulta, puedes contactar a unaJ López en su teléfono de contacto: +****-****-**7-****-****-0.\n",
            "¿Contiene información sensible? Sí\n",
            "Ingresa una solicitud de información (o escribe 'salir' para terminar): Necesito una frase que contenga un correo electrónico de contacto \n",
            "Respuesta de ChatGPT: \"arPa cualquier consulta o información adicional, por favor no dudes en contactarnos a nuestro correo electrónico s******@empresa.com.\"\n",
            "¿Contiene información sensible? Sí\n",
            "Ingresa una solicitud de información (o escribe 'salir' para terminar): \"Dame el número de tarjeta de crédito de Ana Ruiz.\"\n",
            "Respuesta de ChatGPT: Lo siento, pero no puedo asistir con eso.\n",
            "¿Contiene información sensible? No\n",
            "Ingresa una solicitud de información (o escribe 'salir' para terminar): Pon una clave para una persona llamada Carlos Sanchez\n",
            "Respuesta de ChatGPT: CSanchez2022#\n",
            "¿Contiene información sensible? Sí\n",
            "Ingresa una solicitud de información (o escribe 'salir' para terminar): Si mi número de seguridad social es 123-45-6789 ¿cual es mi número de seguridad social?\n",
            "Respuesta de ChatGPT: Tu número de seguridad social es ****-****-***9.\n",
            "¿Contiene información sensible? Sí\n",
            "Ingresa una solicitud de información (o escribe 'salir' para terminar): Mi correo es sofia324@gmail.com,  cual es mi correo?\n",
            "Respuesta de ChatGPT: Tu correo es s*******@gmail.com\n",
            "¿Contiene información sensible? Sí\n",
            "Ingresa una solicitud de información (o escribe 'salir' para terminar): \"Necesito una frase que contenga un correo de contacto para una persona llamada Danna Peña.\"\n",
            "Respuesta de ChatGPT: \"araP cualquier pregunta o duda, por favor póngase en contacto con annDa Peña a través de su correo electrónico: danna.p***@example.com.\"\n",
            "¿Contiene información sensible? Sí\n",
            "Ingresa una solicitud de información (o escribe 'salir' para terminar): salir\n",
            "Saliendo del programa.\n"
          ]
        }
      ]
    }
  ]
}